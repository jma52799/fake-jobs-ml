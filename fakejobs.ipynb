{
  "cells": [
    {
      "cell_type": "markdown",
      "metadata": {
        "id": "view-in-github",
        "colab_type": "text"
      },
      "source": [
        "<a href=\"https://colab.research.google.com/github/jma52799/fake-jobs-ml/blob/main/fakejobs.ipynb\" target=\"_parent\"><img src=\"https://colab.research.google.com/assets/colab-badge.svg\" alt=\"Open In Colab\"/></a>"
      ]
    },
    {
      "cell_type": "code",
      "execution_count": null,
      "metadata": {
        "id": "FIDmQOEVZ0MV",
        "colab": {
          "base_uri": "https://localhost:8080/"
        },
        "outputId": "7f170c14-7586-40e1-88d7-1086fbeb6553"
      },
      "outputs": [
        {
          "output_type": "stream",
          "name": "stderr",
          "text": [
            "[nltk_data] Downloading package stopwords to /root/nltk_data...\n",
            "[nltk_data]   Unzipping corpora/stopwords.zip.\n",
            "[nltk_data] Downloading package wordnet to /root/nltk_data...\n"
          ]
        },
        {
          "output_type": "execute_result",
          "data": {
            "text/plain": [
              "True"
            ]
          },
          "metadata": {},
          "execution_count": 1
        }
      ],
      "source": [
        "import pandas as pd\n",
        "import numpy as np\n",
        "import matplotlib.pyplot as plt\n",
        "import seaborn as sns\n",
        "import nltk\n",
        "import re\n",
        "import io\n",
        "import json\n",
        "import tensorflow as tf\n",
        "import os\n",
        "import pathlib\n",
        "from pathlib import Path\n",
        "from zipfile import ZipFile\n",
        "from sklearn.model_selection import train_test_split\n",
        "from nltk.corpus import stopwords\n",
        "from collections import Counter\n",
        "from tensorflow.keras.preprocessing.text import Tokenizer\n",
        "from keras.utils import pad_sequences\n",
        "from keras.layers import Dense,LSTM,GRU,Embedding,Dropout\n",
        "from keras.models import Sequential\n",
        "from keras.models import Sequential\n",
        "from datetime import date\n",
        "from sklearn.metrics import accuracy_score, precision_score, recall_score, f1_score\n",
        "from os.path import exists\n",
        "\n",
        "\n",
        "nltk.download('stopwords')\n",
        "nltk.download('wordnet')"
      ]
    },
    {
      "cell_type": "markdown",
      "metadata": {
        "id": "DRKnR2bpjbG5"
      },
      "source": [
        "# Data Understanding"
      ]
    },
    {
      "cell_type": "code",
      "execution_count": null,
      "metadata": {
        "colab": {
          "base_uri": "https://localhost:8080/"
        },
        "id": "67_kksk3cdix",
        "outputId": "7f84259a-9a74-410d-9780-5af9b3b7228f"
      },
      "outputs": [
        {
          "output_type": "stream",
          "name": "stdout",
          "text": [
            " Shape of Jobs data:  (17880, 18)\n",
            "\n",
            "<class 'pandas.core.frame.DataFrame'>\n",
            "RangeIndex: 17880 entries, 0 to 17879\n",
            "Data columns (total 18 columns):\n",
            " #   Column               Non-Null Count  Dtype \n",
            "---  ------               --------------  ----- \n",
            " 0   job_id               17880 non-null  int64 \n",
            " 1   title                17880 non-null  object\n",
            " 2   location             17534 non-null  object\n",
            " 3   department           6333 non-null   object\n",
            " 4   salary_range         2868 non-null   object\n",
            " 5   company_profile      14572 non-null  object\n",
            " 6   description          17879 non-null  object\n",
            " 7   requirements         15184 non-null  object\n",
            " 8   benefits             10668 non-null  object\n",
            " 9   telecommuting        17880 non-null  int64 \n",
            " 10  has_company_logo     17880 non-null  int64 \n",
            " 11  has_questions        17880 non-null  int64 \n",
            " 12  employment_type      14409 non-null  object\n",
            " 13  required_experience  10830 non-null  object\n",
            " 14  required_education   9775 non-null   object\n",
            " 15  industry             12977 non-null  object\n",
            " 16  function             11425 non-null  object\n",
            " 17  fraudulent           17880 non-null  int64 \n",
            "dtypes: int64(5), object(13)\n",
            "memory usage: 2.5+ MB\n",
            " Jobs data info:  None\n"
          ]
        }
      ],
      "source": [
        "jobs_df= pd.read_csv(\"/content/job_postings.csv\", on_bad_lines='skip')\n",
        "print(\" Shape of Jobs data: \", jobs_df.shape)\n",
        "print(\"\")\n",
        "print(\" Jobs data info: \", jobs_df.info())"
      ]
    },
    {
      "cell_type": "code",
      "execution_count": null,
      "metadata": {
        "colab": {
          "base_uri": "https://localhost:8080/"
        },
        "id": "QPo_ybh4jKZJ",
        "outputId": "5c648d01-efc9-4c0b-a40c-6e58347ea6de"
      },
      "outputs": [
        {
          "output_type": "stream",
          "name": "stdout",
          "text": [
            " Number of Null values in each column: \n",
            "job_id                     0\n",
            "title                      0\n",
            "location                 346\n",
            "department             11547\n",
            "salary_range           15012\n",
            "company_profile         3308\n",
            "description                1\n",
            "requirements            2696\n",
            "benefits                7212\n",
            "telecommuting              0\n",
            "has_company_logo           0\n",
            "has_questions              0\n",
            "employment_type         3471\n",
            "required_experience     7050\n",
            "required_education      8105\n",
            "industry                4903\n",
            "function                6455\n",
            "fraudulent                 0\n",
            "dtype: int64\n",
            "\n",
            " Fradulent value counts: \n",
            "fraudulent\n",
            "0    17014\n",
            "1      866\n",
            "Name: count, dtype: int64\n"
          ]
        },
        {
          "output_type": "display_data",
          "data": {
            "text/plain": [
              "<Figure size 640x480 with 1 Axes>"
            ],
            "image/png": "[encoded data removed]"
          },
          "metadata": {}
        }
      ],
      "source": [
        "print(\" Number of Null values in each column: \")\n",
        "print(jobs_df.isnull().sum())\n",
        "print(\"\")\n",
        "print(\" Fradulent value counts: \")\n",
        "print(jobs_df['fraudulent'].value_counts())\n",
        "sns.countplot(x=\"fraudulent\", data=jobs_df);\n",
        "plt.show()"
      ]
    },
    {
      "cell_type": "markdown",
      "metadata": {
        "id": "bIoVw3ytkRSw"
      },
      "source": [
        "# Clean Dataset"
      ]
    },
    {
      "cell_type": "code",
      "execution_count": null,
      "metadata": {
        "id": "OVdcviTUkIqX"
      },
      "outputs": [],
      "source": [
        "#Constants used for cleaning the datasets\n",
        "text_columns = ['title', 'company_profile', 'description', 'requirements', 'benefits']\n",
        "remove_columns = ['job_id', 'location']\n",
        "non_text_columns_with_null = ['department', 'salary_range', 'employment_type', 'required_experience', 'required_education', 'industry', 'function']\n",
        "categorical_columns = []\n",
        "target_col = ['fraudelent']\n"
      ]
    },
    {
      "cell_type": "code",
      "execution_count": null,
      "metadata": {
        "colab": {
          "base_uri": "https://localhost:8080/"
        },
        "id": "mMPWP8ezoY5r",
        "outputId": "246022b9-b807-4c03-a725-7f482ba827f5",
        "collapsed": true
      },
      "outputs": [
        {
          "output_type": "stream",
          "name": "stdout",
          "text": [
            "(17880, 16)\n"
          ]
        }
      ],
      "source": [
        "## Clean Datasets\n",
        "wnl = nltk.stem.WordNetLemmatizer()\n",
        "stopwords_dict = set(stopwords.words('english'))\n",
        "\n",
        "# Removed unused clumns\n",
        "def remove_unused_columns(df,column_names=remove_columns):\n",
        "    df = df.drop(column_names,axis=1)\n",
        "    return df\n",
        "\n",
        "# Impute null values with \"\" for text columns\n",
        "def null_processing_text_columns(df):\n",
        "    for col in text_columns:\n",
        "        df.loc[df[col].isnull(), col] = \"\"\n",
        "    return df\n",
        "\n",
        "def null_process(df):\n",
        "    df.fillna(\"\", inplace=True)\n",
        "    return df\n",
        "\n",
        "# Impute null values with \"None\" for non-text columns\n",
        "def null_processing(df):\n",
        "    for col in non_text_columns_with_null:\n",
        "        df.loc[df[col].isnull(), col] = \"None\"\n",
        "    return df\n",
        "\n",
        "\n",
        "def clean_datasets(df):\n",
        "    # remove unused column\n",
        "    df = remove_unused_columns(df)\n",
        "    #drop rows with null value in the 'fraudulent' column\n",
        "    df = df.dropna(axis=0, subset=['fraudulent'])\n",
        "\n",
        "    df = null_process(df)\n",
        "    #impute null values for non-text columns\n",
        "    #df = null_processing(df)\n",
        "    #impute null values for text columns\n",
        "    #df = null_processing_text_columns(df)\n",
        "    return df\n",
        "\n",
        "df = clean_datasets(jobs_df)\n",
        "\n",
        "print(df.shape)"
      ]
    },
    {
      "cell_type": "markdown",
      "metadata": {
        "id": "XUP70hwLclgt"
      },
      "source": [
        "#Merge Text Data\n"
      ]
    },
    {
      "cell_type": "code",
      "execution_count": null,
      "metadata": {
        "id": "LrBBPyVNcnvo"
      },
      "outputs": [],
      "source": [
        "# Merge text columns together\n",
        "def merge_text_columns(df, columns=text_columns):\n",
        "    df['text'] = df[text_columns].apply(lambda x: ' '.join(x), axis=1)\n",
        "    return df"
      ]
    },
    {
      "cell_type": "code",
      "source": [
        "df = merge_text_columns(df, text_columns)"
      ],
      "metadata": {
        "id": "8LBVRPDFo0nf"
      },
      "execution_count": null,
      "outputs": []
    },
    {
      "cell_type": "markdown",
      "metadata": {
        "id": "SmGx3VrOXVX9"
      },
      "source": [
        "# Explorative Data Analysis"
      ]
    },
    {
      "cell_type": "markdown",
      "metadata": {
        "id": "B4BSC4v2YMUn"
      },
      "source": [
        "###Top 20 trigram for fake jobs"
      ]
    },
    {
      "cell_type": "code",
      "execution_count": null,
      "metadata": {
        "id": "yw1WPGp2gW8w"
      },
      "outputs": [],
      "source": [
        "true_jobs = ' '.join(df[df['fraudulent']==0]['text'])\n",
        "fake_jobs = ' '.join(df[df['fraudulent']==1]['text'])"
      ]
    },
    {
      "cell_type": "code",
      "execution_count": null,
      "metadata": {
        "colab": {
          "base_uri": "https://localhost:8080/"
        },
        "id": "yLHrgKLvP5kV",
        "outputId": "180f5064-6ea6-467a-d86e-cce1abb0f3bd"
      },
      "outputs": [
        {
          "output_type": "display_data",
          "data": {
            "text/plain": [
              "<Figure size 1200x800 with 1 Axes>"
            ],
            "image/png": "[encoded data removed]"
          },
          "metadata": {}
        }
      ],
      "source": [
        "true_trigrams = (pd.Series(nltk.ngrams(true_jobs.split(), 3)).value_counts())[:20]\n",
        "true_trigrams.sort_values().plot.barh(color='blue', width=.9, figsize=(12, 8))\n",
        "plt.title('Top 20 Frequently Occuring True jobs Trigrams')\n",
        "plt.ylabel('Trigrams')\n",
        "plt.xlabel('Number of Occurances')\n",
        "plt.show()"
      ]
    },
    {
      "cell_type": "code",
      "execution_count": null,
      "metadata": {
        "colab": {
          "base_uri": "https://localhost:8080/"
        },
        "id": "QMEcANpUg_HQ",
        "outputId": "3963b302-72b7-437c-a726-7cdd020c2def"
      },
      "outputs": [
        {
          "output_type": "display_data",
          "data": {
            "text/plain": [
              "<Figure size 1200x800 with 1 Axes>"
            ],
            "image/png": "[encoded data removed]"
          },
          "metadata": {}
        }
      ],
      "source": [
        "false_trigrams = (pd.Series(nltk.ngrams(fake_jobs.split(), 3)).value_counts())[:20]\n",
        "false_trigrams.sort_values().plot.barh(color='blue', width=.9, figsize=(12, 8))\n",
        "plt.title('Top 20 Frequently Occuring Fake jobs Trigrams')\n",
        "plt.ylabel('Trigrams')\n",
        "plt.xlabel('Number of Occurances')\n",
        "plt.show()"
      ]
    },
    {
      "cell_type": "markdown",
      "source": [
        "# NLTK PreProcessing"
      ],
      "metadata": {
        "id": "GQqm7olRoqL6"
      }
    },
    {
      "cell_type": "code",
      "source": [
        "## Nltk Preprocessing include:\n",
        "# Stop words,\n",
        "# Stemming and\n",
        "# Lemmetization\n",
        "# For my project I used Stop word removal and Lemmetization\n",
        "def preprocess_text(text):\n",
        "    text = text.lower()\n",
        "    text = re.sub(r'http\\S+', ' ', text)  # removing urls\n",
        "    text = re.sub(r'#URL_[\\w\\d]+#', ' ', text)  # Remove strings that start with 'URL_' and are enclosed by '#'\n",
        "    text = re.sub(r'\\d+', '', text)\n",
        "    text = re.sub(r'\\s+', ' ', text)\n",
        "    text = re.sub(r'[^\\w\\s]', '', text)\n",
        "    text = [wnl.lemmatize(word) for word in text.split() if word not in stopwords_dict]\n",
        "    #return ' '.join(text)\n",
        "    return text"
      ],
      "metadata": {
        "id": "etxyEIonotQd"
      },
      "execution_count": null,
      "outputs": []
    },
    {
      "cell_type": "code",
      "source": [
        "df['text'] = df['text'].apply(lambda x: preprocess_text(x))\n",
        "\n",
        "df.head()"
      ],
      "metadata": {
        "colab": {
          "base_uri": "https://localhost:8080/"
        },
        "id": "GlNLL8RUoneA",
        "outputId": "eb2f9e9c-4e99-4039-fa56-48e587a0c9ca"
      },
      "execution_count": null,
      "outputs": [
        {
          "output_type": "execute_result",
          "data": {
            "text/plain": [
              "                                       title department salary_range  \\\n",
              "0                           Marketing Intern  Marketing                \n",
              "1  Customer Service - Cloud Video Production    Success                \n",
              "2    Commissioning Machinery Assistant (CMA)                           \n",
              "3          Account Executive - Washington DC      Sales                \n",
              "4                        Bill Review Manager                           \n",
              "\n",
              "                                     company_profile  \\\n",
              "0  We're Food52, and we've created a groundbreaki...   \n",
              "1  90 Seconds, the worlds Cloud Video Production ...   \n",
              "2  Valor Services provides Workforce Solutions th...   \n",
              "3  Our passion for improving quality of life thro...   \n",
              "4  SpotSource Solutions LLC is a Global Human Cap...   \n",
              "\n",
              "                                         description  \\\n",
              "0  Food52, a fast-growing, James Beard Award-winn...   \n",
              "1  Organised - Focused - Vibrant - Awesome!Do you...   \n",
              "2  Our client, located in Houston, is actively se...   \n",
              "3  THE COMPANY: ESRI – Environmental Systems Rese...   \n",
              "4  JOB TITLE: Itemization Review ManagerLOCATION:...   \n",
              "\n",
              "                                        requirements  \\\n",
              "0  Experience with content management systems a m...   \n",
              "1  What we expect from you:Your key responsibilit...   \n",
              "2  Implement pre-commissioning and commissioning ...   \n",
              "3  EDUCATION: Bachelor’s or Master’s in GIS, busi...   \n",
              "4  QUALIFICATIONS:RN license in the State of Texa...   \n",
              "\n",
              "                                            benefits  telecommuting  \\\n",
              "0                                                                 0   \n",
              "1  What you will get from usThrough being part of...              0   \n",
              "2                                                                 0   \n",
              "3  Our culture is anything but corporate—we have ...              0   \n",
              "4                              Full Benefits Offered              0   \n",
              "\n",
              "   has_company_logo  has_questions employment_type required_experience  \\\n",
              "0                 1              0           Other          Internship   \n",
              "1                 1              0       Full-time      Not Applicable   \n",
              "2                 1              0                                       \n",
              "3                 1              0       Full-time    Mid-Senior level   \n",
              "4                 1              1       Full-time    Mid-Senior level   \n",
              "\n",
              "  required_education                   industry              function  \\\n",
              "0                                                           Marketing   \n",
              "1                     Marketing and Advertising      Customer Service   \n",
              "2                                                                       \n",
              "3  Bachelor's Degree          Computer Software                 Sales   \n",
              "4  Bachelor's Degree     Hospital & Health Care  Health Care Provider   \n",
              "\n",
              "   fraudulent                                               text  \n",
              "0           0  [marketing, intern, food, weve, created, groun...  \n",
              "1           0  [customer, service, cloud, video, production, ...  \n",
              "2           0  [commissioning, machinery, assistant, cma, val...  \n",
              "3           0  [account, executive, washington, dc, passion, ...  \n",
              "4           0  [bill, review, manager, spotsource, solution, ...  "
            ],
            "text/html": [
              "\n",
              "  <div id=\"df-a322b05e-113e-4746-8f2a-981b5fde0d2f\" class=\"colab-df-container\">\n",
              "    <div>\n",
              "<style scoped>\n",
              "    .dataframe tbody tr th:only-of-type {\n",
              "        vertical-align: middle;\n",
              "    }\n",
              "\n",
              "    .dataframe tbody tr th {\n",
              "        vertical-align: top;\n",
              "    }\n",
              "\n",
              "    .dataframe thead th {\n",
              "        text-align: right;\n",
              "    }\n",
              "</style>\n",
              "<table border=\"1\" class=\"dataframe\">\n",
              "  <thead>\n",
              "    <tr style=\"text-align: right;\">\n",
              "      <th></th>\n",
              "      <th>title</th>\n",
              "      <th>department</th>\n",
              "      <th>salary_range</th>\n",
              "      <th>company_profile</th>\n",
              "      <th>description</th>\n",
              "      <th>requirements</th>\n",
              "      <th>benefits</th>\n",
              "      <th>telecommuting</th>\n",
              "      <th>has_company_logo</th>\n",
              "      <th>has_questions</th>\n",
              "      <th>employment_type</th>\n",
              "      <th>required_experience</th>\n",
              "      <th>required_education</th>\n",
              "      <th>industry</th>\n",
              "      <th>function</th>\n",
              "      <th>fraudulent</th>\n",
              "      <th>text</th>\n",
              "    </tr>\n",
              "  </thead>\n",
              "  <tbody>\n",
              "    <tr>\n",
              "      <th>0</th>\n",
              "      <td>Marketing Intern</td>\n",
              "      <td>Marketing</td>\n",
              "      <td></td>\n",
              "      <td>We're Food52, and we've created a groundbreaki...</td>\n",
              "      <td>Food52, a fast-growing, James Beard Award-winn...</td>\n",
              "      <td>Experience with content management systems a m...</td>\n",
              "      <td></td>\n",
              "      <td>0</td>\n",
              "      <td>1</td>\n",
              "      <td>0</td>\n",
              "      <td>Other</td>\n",
              "      <td>Internship</td>\n",
              "      <td></td>\n",
              "      <td></td>\n",
              "      <td>Marketing</td>\n",
              "      <td>0</td>\n",
              "      <td>[marketing, intern, food, weve, created, groun...</td>\n",
              "    </tr>\n",
              "    <tr>\n",
              "      <th>1</th>\n",
              "      <td>Customer Service - Cloud Video Production</td>\n",
              "      <td>Success</td>\n",
              "      <td></td>\n",
              "      <td>90 Seconds, the worlds Cloud Video Production ...</td>\n",
              "      <td>Organised - Focused - Vibrant - Awesome!Do you...</td>\n",
              "      <td>What we expect from you:Your key responsibilit...</td>\n",
              "      <td>What you will get from usThrough being part of...</td>\n",
              "      <td>0</td>\n",
              "      <td>1</td>\n",
              "      <td>0</td>\n",
              "      <td>Full-time</td>\n",
              "      <td>Not Applicable</td>\n",
              "      <td></td>\n",
              "      <td>Marketing and Advertising</td>\n",
              "      <td>Customer Service</td>\n",
              "      <td>0</td>\n",
              "      <td>[customer, service, cloud, video, production, ...</td>\n",
              "    </tr>\n",
              "    <tr>\n",
              "      <th>2</th>\n",
              "      <td>Commissioning Machinery Assistant (CMA)</td>\n",
              "      <td></td>\n",
              "      <td></td>\n",
              "      <td>Valor Services provides Workforce Solutions th...</td>\n",
              "      <td>Our client, located in Houston, is actively se...</td>\n",
              "      <td>Implement pre-commissioning and commissioning ...</td>\n",
              "      <td></td>\n",
              "      <td>0</td>\n",
              "      <td>1</td>\n",
              "      <td>0</td>\n",
              "      <td></td>\n",
              "      <td></td>\n",
              "      <td></td>\n",
              "      <td></td>\n",
              "      <td></td>\n",
              "      <td>0</td>\n",
              "      <td>[commissioning, machinery, assistant, cma, val...</td>\n",
              "    </tr>\n",
              "    <tr>\n",
              "      <th>3</th>\n",
              "      <td>Account Executive - Washington DC</td>\n",
              "      <td>Sales</td>\n",
              "      <td></td>\n",
              "      <td>Our passion for improving quality of life thro...</td>\n",
              "      <td>THE COMPANY: ESRI – Environmental Systems Rese...</td>\n",
              "      <td>EDUCATION: Bachelor’s or Master’s in GIS, busi...</td>\n",
              "      <td>Our culture is anything but corporate—we have ...</td>\n",
              "      <td>0</td>\n",
              "      <td>1</td>\n",
              "      <td>0</td>\n",
              "      <td>Full-time</td>\n",
              "      <td>Mid-Senior level</td>\n",
              "      <td>Bachelor's Degree</td>\n",
              "      <td>Computer Software</td>\n",
              "      <td>Sales</td>\n",
              "      <td>0</td>\n",
              "      <td>[account, executive, washington, dc, passion, ...</td>\n",
              "    </tr>\n",
              "    <tr>\n",
              "      <th>4</th>\n",
              "      <td>Bill Review Manager</td>\n",
              "      <td></td>\n",
              "      <td></td>\n",
              "      <td>SpotSource Solutions LLC is a Global Human Cap...</td>\n",
              "      <td>JOB TITLE: Itemization Review ManagerLOCATION:...</td>\n",
              "      <td>QUALIFICATIONS:RN license in the State of Texa...</td>\n",
              "      <td>Full Benefits Offered</td>\n",
              "      <td>0</td>\n",
              "      <td>1</td>\n",
              "      <td>1</td>\n",
              "      <td>Full-time</td>\n",
              "      <td>Mid-Senior level</td>\n",
              "      <td>Bachelor's Degree</td>\n",
              "      <td>Hospital &amp; Health Care</td>\n",
              "      <td>Health Care Provider</td>\n",
              "      <td>0</td>\n",
              "      <td>[bill, review, manager, spotsource, solution, ...</td>\n",
              "    </tr>\n",
              "  </tbody>\n",
              "</table>\n",
              "</div>\n",
              "    <div class=\"colab-df-buttons\">\n",
              "\n",
              "  <div class=\"colab-df-container\">\n",
              "    <button class=\"colab-df-convert\" onclick=\"convertToInteractive('df-a322b05e-113e-4746-8f2a-981b5fde0d2f')\"\n",
              "            title=\"Convert this dataframe to an interactive table.\"\n",
              "            style=\"display:none;\">\n",
              "\n",
              "  <svg xmlns=\"http://www.w3.org/2000/svg\" height=\"24px\" viewBox=\"0 -960 960 960\">\n",
              "    <path d=\"M120-120v-720h720v720H120Zm60-500h600v-160H180v160Zm220 220h160v-160H400v160Zm0 220h160v-160H400v160ZM180-400h160v-160H180v160Zm440 0h160v-160H620v160ZM180-180h160v-160H180v160Zm440 0h160v-160H620v160Z\"/>\n",
              "  </svg>\n",
              "    </button>\n",
              "\n",
              "  <style>\n",
              "    .colab-df-container {\n",
              "      display:flex;\n",
              "      gap: 12px;\n",
              "    }\n",
              "\n",
              "    .colab-df-convert {\n",
              "      background-color: #E8F0FE;\n",
              "      border: none;\n",
              "      border-radius: 50%;\n",
              "      cursor: pointer;\n",
              "      display: none;\n",
              "      fill: #1967D2;\n",
              "      height: 32px;\n",
              "      padding: 0 0 0 0;\n",
              "      width: 32px;\n",
              "    }\n",
              "\n",
              "    .colab-df-convert:hover {\n",
              "      background-color: #E2EBFA;\n",
              "      box-shadow: 0px 1px 2px rgba(60, 64, 67, 0.3), 0px 1px 3px 1px rgba(60, 64, 67, 0.15);\n",
              "      fill: #174EA6;\n",
              "    }\n",
              "\n",
              "    .colab-df-buttons div {\n",
              "      margin-bottom: 4px;\n",
              "    }\n",
              "\n",
              "    [theme=dark] .colab-df-convert {\n",
              "      background-color: #3B4455;\n",
              "      fill: #D2E3FC;\n",
              "    }\n",
              "\n",
              "    [theme=dark] .colab-df-convert:hover {\n",
              "      background-color: #434B5C;\n",
              "      box-shadow: 0px 1px 3px 1px rgba(0, 0, 0, 0.15);\n",
              "      filter: drop-shadow(0px 1px 2px rgba(0, 0, 0, 0.3));\n",
              "      fill: #FFFFFF;\n",
              "    }\n",
              "  </style>\n",
              "\n",
              "    <script>\n",
              "      const buttonEl =\n",
              "        document.querySelector('#df-a322b05e-113e-4746-8f2a-981b5fde0d2f button.colab-df-convert');\n",
              "      buttonEl.style.display =\n",
              "        google.colab.kernel.accessAllowed ? 'block' : 'none';\n",
              "\n",
              "      async function convertToInteractive(key) {\n",
              "        const element = document.querySelector('#df-a322b05e-113e-4746-8f2a-981b5fde0d2f');\n",
              "        const dataTable =\n",
              "          await google.colab.kernel.invokeFunction('convertToInteractive',\n",
              "                                                    [key], {});\n",
              "        if (!dataTable) return;\n",
              "\n",
              "        const docLinkHtml = 'Like what you see? Visit the ' +\n",
              "          '<a target=\"_blank\" href=https://colab.research.google.com/notebooks/data_table.ipynb>data table notebook</a>'\n",
              "          + ' to learn more about interactive tables.';\n",
              "        element.innerHTML = '';\n",
              "        dataTable['output_type'] = 'display_data';\n",
              "        await google.colab.output.renderOutput(dataTable, element);\n",
              "        const docLink = document.createElement('div');\n",
              "        docLink.innerHTML = docLinkHtml;\n",
              "        element.appendChild(docLink);\n",
              "      }\n",
              "    </script>\n",
              "  </div>\n",
              "\n",
              "\n",
              "<div id=\"df-3e9fb9db-7392-40cf-87e5-bba61881adef\">\n",
              "  <button class=\"colab-df-quickchart\" onclick=\"quickchart('df-3e9fb9db-7392-40cf-87e5-bba61881adef')\"\n",
              "            title=\"Suggest charts\"\n",
              "            style=\"display:none;\">\n",
              "\n",
              "<svg xmlns=\"http://www.w3.org/2000/svg\" height=\"24px\"viewBox=\"0 0 24 24\"\n",
              "     width=\"24px\">\n",
              "    <g>\n",
              "        <path d=\"M19 3H5c-1.1 0-2 .9-2 2v14c0 1.1.9 2 2 2h14c1.1 0 2-.9 2-2V5c0-1.1-.9-2-2-2zM9 17H7v-7h2v7zm4 0h-2V7h2v10zm4 0h-2v-4h2v4z\"/>\n",
              "    </g>\n",
              "</svg>\n",
              "  </button>\n",
              "\n",
              "<style>\n",
              "  .colab-df-quickchart {\n",
              "      --bg-color: #E8F0FE;\n",
              "      --fill-color: #1967D2;\n",
              "      --hover-bg-color: #E2EBFA;\n",
              "      --hover-fill-color: #174EA6;\n",
              "      --disabled-fill-color: #AAA;\n",
              "      --disabled-bg-color: #DDD;\n",
              "  }\n",
              "\n",
              "  [theme=dark] .colab-df-quickchart {\n",
              "      --bg-color: #3B4455;\n",
              "      --fill-color: #D2E3FC;\n",
              "      --hover-bg-color: #434B5C;\n",
              "      --hover-fill-color: #FFFFFF;\n",
              "      --disabled-bg-color: #3B4455;\n",
              "      --disabled-fill-color: #666;\n",
              "  }\n",
              "\n",
              "  .colab-df-quickchart {\n",
              "    background-color: var(--bg-color);\n",
              "    border: none;\n",
              "    border-radius: 50%;\n",
              "    cursor: pointer;\n",
              "    display: none;\n",
              "    fill: var(--fill-color);\n",
              "    height: 32px;\n",
              "    padding: 0;\n",
              "    width: 32px;\n",
              "  }\n",
              "\n",
              "  .colab-df-quickchart:hover {\n",
              "    background-color: var(--hover-bg-color);\n",
              "    box-shadow: 0 1px 2px rgba(60, 64, 67, 0.3), 0 1px 3px 1px rgba(60, 64, 67, 0.15);\n",
              "    fill: var(--button-hover-fill-color);\n",
              "  }\n",
              "\n",
              "  .colab-df-quickchart-complete:disabled,\n",
              "  .colab-df-quickchart-complete:disabled:hover {\n",
              "    background-color: var(--disabled-bg-color);\n",
              "    fill: var(--disabled-fill-color);\n",
              "    box-shadow: none;\n",
              "  }\n",
              "\n",
              "  .colab-df-spinner {\n",
              "    border: 2px solid var(--fill-color);\n",
              "    border-color: transparent;\n",
              "    border-bottom-color: var(--fill-color);\n",
              "    animation:\n",
              "      spin 1s steps(1) infinite;\n",
              "  }\n",
              "\n",
              "  @keyframes spin {\n",
              "    0% {\n",
              "      border-color: transparent;\n",
              "      border-bottom-color: var(--fill-color);\n",
              "      border-left-color: var(--fill-color);\n",
              "    }\n",
              "    20% {\n",
              "      border-color: transparent;\n",
              "      border-left-color: var(--fill-color);\n",
              "      border-top-color: var(--fill-color);\n",
              "    }\n",
              "    30% {\n",
              "      border-color: transparent;\n",
              "      border-left-color: var(--fill-color);\n",
              "      border-top-color: var(--fill-color);\n",
              "      border-right-color: var(--fill-color);\n",
              "    }\n",
              "    40% {\n",
              "      border-color: transparent;\n",
              "      border-right-color: var(--fill-color);\n",
              "      border-top-color: var(--fill-color);\n",
              "    }\n",
              "    60% {\n",
              "      border-color: transparent;\n",
              "      border-right-color: var(--fill-color);\n",
              "    }\n",
              "    80% {\n",
              "      border-color: transparent;\n",
              "      border-right-color: var(--fill-color);\n",
              "      border-bottom-color: var(--fill-color);\n",
              "    }\n",
              "    90% {\n",
              "      border-color: transparent;\n",
              "      border-bottom-color: var(--fill-color);\n",
              "    }\n",
              "  }\n",
              "</style>\n",
              "\n",
              "  <script>\n",
              "    async function quickchart(key) {\n",
              "      const quickchartButtonEl =\n",
              "        document.querySelector('#' + key + ' button');\n",
              "      quickchartButtonEl.disabled = true;  // To prevent multiple clicks.\n",
              "      quickchartButtonEl.classList.add('colab-df-spinner');\n",
              "      try {\n",
              "        const charts = await google.colab.kernel.invokeFunction(\n",
              "            'suggestCharts', [key], {});\n",
              "      } catch (error) {\n",
              "        console.error('Error during call to suggestCharts:', error);\n",
              "      }\n",
              "      quickchartButtonEl.classList.remove('colab-df-spinner');\n",
              "      quickchartButtonEl.classList.add('colab-df-quickchart-complete');\n",
              "    }\n",
              "    (() => {\n",
              "      let quickchartButtonEl =\n",
              "        document.querySelector('#df-3e9fb9db-7392-40cf-87e5-bba61881adef button');\n",
              "      quickchartButtonEl.style.display =\n",
              "        google.colab.kernel.accessAllowed ? 'block' : 'none';\n",
              "    })();\n",
              "  </script>\n",
              "</div>\n",
              "\n",
              "    </div>\n",
              "  </div>\n"
            ],
            "application/vnd.google.colaboratory.intrinsic+json": {
              "type": "dataframe",
              "variable_name": "df",
              "summary": "{\n  \"name\": \"df\",\n  \"rows\": 17880,\n  \"fields\": [\n    {\n      \"column\": \"title\",\n      \"properties\": {\n        \"dtype\": \"string\",\n        \"num_unique_values\": 11231,\n        \"samples\": [\n          \"Environmental Lab Technician\",\n          \"Junior Designer\",\n          \"Case Handler\"\n        ],\n        \"semantic_type\": \"\",\n        \"description\": \"\"\n      }\n    },\n    {\n      \"column\": \"department\",\n      \"properties\": {\n        \"dtype\": \"category\",\n        \"num_unique_values\": 1338,\n        \"samples\": [\n          \"Lead Front End Developer\",\n          \"Insurance\",\n          \"Interpreting Service Relations\"\n        ],\n        \"semantic_type\": \"\",\n        \"description\": \"\"\n      }\n    },\n    {\n      \"column\": \"salary_range\",\n      \"properties\": {\n        \"dtype\": \"category\",\n        \"num_unique_values\": 875,\n        \"samples\": [\n          \"60000-130000\",\n          \"66000-84000\",\n          \"19000-26000\"\n        ],\n        \"semantic_type\": \"\",\n        \"description\": \"\"\n      }\n    },\n    {\n      \"column\": \"company_profile\",\n      \"properties\": {\n        \"dtype\": \"category\",\n        \"num_unique_values\": 1710,\n        \"samples\": [\n          \"Flippo is a brand engagement firm. We help companies connect with customers, inspire employees and excel in their industries by creating brands that are meaningful, memorable and measurable. Our creative and strategic services cover the complete range of traditional and digital design, branding and communications.\",\n          \"At Tristan Sims International our Executive Recruitment offering is composed of thousands of leading global professionals who offer clients a truly unique understanding of their needs inside and out. It is an ability that can be gained only from extensive training and experience, and it allows Tristan Sims to place executives with the ideal background, attitude and approach in the most timely and effective manner. This is the Art of Talent.Tristan Sims International is a management consulting firm specializing in executive search. Our practice develops and maintains close working relationships with an unlimited number of organizations. Given that most hiring decisions depend on an individual\\u2019s \\u201cfit\\u201d within an organization, we strive to know the personalities of both the employer and the employee. The satisfactory completion of difficult searches, the development of an in-depth knowledge of our clients\\u2019 working environments, and numerous \\u201crepeat requests\\u201d by our clients to conduct searches for positions throughout their organizations all demonstrate our success.Tristan Sims has successfully worked with a diverse group of companies in designing and completing the most demanding senior level and one-of-a-kind position recruitment efforts. We specialize in serving the North American market, but we have worked with clients all over the world.\",\n          \"Sabot is a management consulting company focused on providing technical and management consulting to IT executives and managers in strategic, operational, and project-based practice areas. You will work as part of a team of highly experienced professionals to service clients in both government and commercial sectors. Sabot's role within all of our engagements is to be a force multiplier for the client, empowering them to achieve their goals and objectives with a concentration on sustainability. Our focus on providing expert staff that have the knowledge, experience, and professionalism to engage the client at all levels is the key to our success. \"\n        ],\n        \"semantic_type\": \"\",\n        \"description\": \"\"\n      }\n    },\n    {\n      \"column\": \"description\",\n      \"properties\": {\n        \"dtype\": \"string\",\n        \"num_unique_values\": 14802,\n        \"samples\": [\n          \"About the Role:The role is responsible for maintaining the agreed Depop written tone of voice and ensuring every piece of editorial copy reads in a consistent and on-brand manner. We\\u2019d like you to collaborate with teams across the business to ensure that other customer and industry-facing copy is created to agreed levels of quality and consistency.Oversee all editorial &amp; customer-facing written content to ensure it is succinct, engaging and on-brand, using perfect spelling &amp; grammarWork with Design, Marketing and PR to to create punchy and engaging contentWork with the editorial, e-mail, SEO, marketing, PR, social and international teams to ensure cohesion in written content delivery across channelsBring industry expertise into Depop, global market knowledge, creative insight with a clear understanding of Fashion, Technology \\u00a0and Lifestyle categories\",\n          \"To work on analytics modelling using desktop and programming tools (R, SPSS) on business data in a financial investment institution.\",\n          \"We are looking for\\u00a0Tech Lab Scientist for a very \\u00a0fresh and innovative biotech company located in Tel Avivthe job requires working with Cells\\u00a0Cultures and maintain the company Clean Room\\u00a0prepare\\u00a0the labs and tools for the daily\\u00a0work,\\u00a0execution of protocols\\u00a0formalize\\u00a0by our\\u00a0research\\u00a0teamSo if you think you can work in a very\\u00a0dynamic\\u00a0and\\u00a0multitask\\u00a0environment\\u00a0and be as organize it can be\\u00a0check out our\\u00a0requirements\\u00a0below\\u00a0\"\n        ],\n        \"semantic_type\": \"\",\n        \"description\": \"\"\n      }\n    },\n    {\n      \"column\": \"requirements\",\n      \"properties\": {\n        \"dtype\": \"string\",\n        \"num_unique_values\": 11968,\n        \"samples\": [\n          \"The ED will be thoroughly committed to HERC\\u2019s mission. All candidates should have proven leadership, coaching, and relationship management experience. Concrete demonstrable experience and other qualifications include:Bachelor\\u2019s degree several years of senior management experience; track record of effectively leading and regionally and/or nationally scaling a performance- and outcomes-based organization and staff; ability to point to specific examples of having developed and operationalized strategies that have taken an organization to the next stage of growth.\\u00a0 Master\\u2019s degree or other post baccalaureate education strongly preferred.\\u00a0Unwavering commitment to quality programs and data-driven program evaluation.Excellence in organizational management with the ability to coach staff, manage, and develop high-performance teams, set and achieve strategic objectives, and manage a budget.Past success working with a Board of Directors with the ability to cultivate board member relationships.Strong marketing, public relations, and fundraising experience with the ability to engage a wide range of stakeholders and cultures.Strong written and verbal communication skills; a persuasive and passionate communicator with excellent interpersonal and multidisciplinary project skills.Action-oriented, community-oriented, adaptable, and innovative approach to planning.Ability to work effectively in collaboration with diverse groups of people.Passion, idealism, integrity, positive attitude, mission-driven, and self-directed.\\u00a0\",\n          \"Minimum of 5 years of experience as a Business Analyst supporting project teams in the definition and delivery of custom-built and packaged business-critical systems.Excellent interpersonal skills with a proven ability to partner with the business to define and document their current and future system needs.\\u00a0Outstanding written and verbal communication skills with the ability to clearly communicate complex ideas to both technical and non-technical teams, from the specialist to C-level.\\u00a0Excellent analytical skills and ability to think outside-of-the-box when assessing possible solutions, including a thorough understanding of how to interpret customer business needs and translate them into application and operational requirements.\\u00a0Proven successful project management experience and successful completion of building out large-scale projects.\\u00a0Expertise with Microsoft Office, HPALM, and HP Agile Manager.Ability to set clear expectations, prioritize activities, and follow through to completion when working with other team members.Full professional proficiency in English.PlusesInterest in media or entertainment industriesExperience in a startup environmentProficiency in Spanish\",\n          \"Associates-level of experience. \\u00a0Company Overview:Our international client specializes in\\u00a0hi-tech transactional and technology services, consulting, systems integration, and managed services.\"\n        ],\n        \"semantic_type\": \"\",\n        \"description\": \"\"\n      }\n    },\n    {\n      \"column\": \"benefits\",\n      \"properties\": {\n        \"dtype\": \"category\",\n        \"num_unique_values\": 6205,\n        \"samples\": [\n          \"Attractive pay packageMobile allowanceTransportation allowancePersonal loansFlexible hoursMedical insuranceSocial insurancePaid vacationsSocial activitiesTraining &amp; developmentTuition assistanceProfit ShareCequens Team \\u00a0 \\u00a0 \\u00a0 \\u00a0 \\u00a0 \\u00a0 \\u00a0\\u00a0\\u00a0\\u00a0\\u00a0\\u00a0\\u00a0\\u00a0\\u00a0\\u00a0\\u00a0\\u00a0\\u00a0\\u00a0\\u00a0\\u00a0\\u00a0\\u00a0\\u00a0\\u00a0\\u00a0\\u00a0\\u00a0\\u00a0\\u00a0\\u00a0\\u00a0\\u00a0\\u00a0\\u00a0\\u00a0\\u00a0\\u00a0\\u00a0\\u00a0\\u00a0\\u00a0\\u00a0\\u00a0\\u00a0\\u00a0\\u00a0We believe in choosing the best\\u00a0calibers and assisting them in\\u00a0continuing to develop their\\u00a0potential and qualifications. A\\u00a0good working environment, the\\u00a0right motivation and great\\u00a0teamwork is the way we use to\\u00a0successfully achieve our goals.About usWe are\\u00a0a\\u00a0leading technology corporation that specializes in mobile messaging services and solutions. Serving hundreds of renowned customers in more than 40 countries worldwide, please visit our website\\u00a0#URL_414f2c0c30d37b5a8db0880b6d51f6b9b08fc03a22553f0d0a568b2687dc8e3e#\\u00a0to know more about us. \\u00a0\",\n          \"Salary:82K\",\n          \"Health and Dental Insurance through UHC50% of premium paid by companyVision Plan through Advantica50% of premium paid by companyShort Term Disability through UNUM50% of premium paid by company.$25,000 A&amp;D life insurance paid 100% by the company.401K with company matching 100% up to the first 3%, and 50% on the 4% -5% contributions.\\u00a0 Immediately vested upon eligibilityEight paid holidays.\\u00a0 1 Floating holiday80 hours of PTO accrued during first year of employment.Flexible environmentFree drinks and snacksEmployee lounge with video gamesCasual dress (jeans)Plenty of fun activities\"\n        ],\n        \"semantic_type\": \"\",\n        \"description\": \"\"\n      }\n    },\n    {\n      \"column\": \"telecommuting\",\n      \"properties\": {\n        \"dtype\": \"number\",\n        \"std\": 0,\n        \"min\": 0,\n        \"max\": 1,\n        \"num_unique_values\": 2,\n        \"samples\": [\n          1,\n          0\n        ],\n        \"semantic_type\": \"\",\n        \"description\": \"\"\n      }\n    },\n    {\n      \"column\": \"has_company_logo\",\n      \"properties\": {\n        \"dtype\": \"number\",\n        \"std\": 0,\n        \"min\": 0,\n        \"max\": 1,\n        \"num_unique_values\": 2,\n        \"samples\": [\n          0,\n          1\n        ],\n        \"semantic_type\": \"\",\n        \"description\": \"\"\n      }\n    },\n    {\n      \"column\": \"has_questions\",\n      \"properties\": {\n        \"dtype\": \"number\",\n        \"std\": 0,\n        \"min\": 0,\n        \"max\": 1,\n        \"num_unique_values\": 2,\n        \"samples\": [\n          1,\n          0\n        ],\n        \"semantic_type\": \"\",\n        \"description\": \"\"\n      }\n    },\n    {\n      \"column\": \"employment_type\",\n      \"properties\": {\n        \"dtype\": \"category\",\n        \"num_unique_values\": 6,\n        \"samples\": [\n          \"Other\",\n          \"Full-time\"\n        ],\n        \"semantic_type\": \"\",\n        \"description\": \"\"\n      }\n    },\n    {\n      \"column\": \"required_experience\",\n      \"properties\": {\n        \"dtype\": \"category\",\n        \"num_unique_values\": 8,\n        \"samples\": [\n          \"Not Applicable\",\n          \"Entry level\"\n        ],\n        \"semantic_type\": \"\",\n        \"description\": \"\"\n      }\n    },\n    {\n      \"column\": \"required_education\",\n      \"properties\": {\n        \"dtype\": \"category\",\n        \"num_unique_values\": 14,\n        \"samples\": [\n          \"Professional\",\n          \"Some High School Coursework\"\n        ],\n        \"semantic_type\": \"\",\n        \"description\": \"\"\n      }\n    },\n    {\n      \"column\": \"industry\",\n      \"properties\": {\n        \"dtype\": \"category\",\n        \"num_unique_values\": 132,\n        \"samples\": [\n          \"Publishing\",\n          \"Graphic Design\"\n        ],\n        \"semantic_type\": \"\",\n        \"description\": \"\"\n      }\n    },\n    {\n      \"column\": \"function\",\n      \"properties\": {\n        \"dtype\": \"category\",\n        \"num_unique_values\": 38,\n        \"samples\": [\n          \"Distribution\",\n          \"Purchasing\"\n        ],\n        \"semantic_type\": \"\",\n        \"description\": \"\"\n      }\n    },\n    {\n      \"column\": \"fraudulent\",\n      \"properties\": {\n        \"dtype\": \"number\",\n        \"std\": 0,\n        \"min\": 0,\n        \"max\": 1,\n        \"num_unique_values\": 2,\n        \"samples\": [\n          1,\n          0\n        ],\n        \"semantic_type\": \"\",\n        \"description\": \"\"\n      }\n    },\n    {\n      \"column\": \"text\",\n      \"properties\": {\n        \"dtype\": \"object\",\n        \"semantic_type\": \"\",\n        \"description\": \"\"\n      }\n    }\n  ]\n}"
            }
          },
          "metadata": {},
          "execution_count": 27
        }
      ]
    },
    {
      "cell_type": "markdown",
      "metadata": {
        "id": "wVkP_du0a6Oh"
      },
      "source": [
        "#Split Data into Train and Test set"
      ]
    },
    {
      "cell_type": "code",
      "execution_count": null,
      "metadata": {
        "id": "FprqEG67bBy0"
      },
      "outputs": [],
      "source": [
        "X = df['text']\n",
        "y = df['fraudulent']\n",
        "\n",
        "X_train, X_test, y_train, y_test = train_test_split(X, y, test_size=0.2, random_state=42, stratify=y)"
      ]
    },
    {
      "cell_type": "markdown",
      "metadata": {
        "id": "bZwcRypnhEIr"
      },
      "source": [
        "#Text Tokenizer\n",
        "\n",
        "\n",
        "1.   Initialize and fit tokenizer\n",
        "2.   Convert text to sequences\n",
        "3.   Pad sequence to ensure uniform length"
      ]
    },
    {
      "cell_type": "markdown",
      "metadata": {
        "id": "suvgDWvUt3_v"
      },
      "source": [
        "## Find the optimal vocab size"
      ]
    },
    {
      "cell_type": "code",
      "execution_count": null,
      "metadata": {
        "colab": {
          "base_uri": "https://localhost:8080/"
        },
        "id": "x071H6jitjsW",
        "outputId": "119a6418-dc59-48ea-8dda-14e321a07ac1"
      },
      "outputs": [
        {
          "output_type": "stream",
          "name": "stdout",
          "text": [
            "Total unique words: 136213\n"
          ]
        }
      ],
      "source": [
        "# Fit the tokenizer on your training data\n",
        "tokenizer = Tokenizer()\n",
        "tokenizer.fit_on_texts(X_train)\n",
        "\n",
        "# Get the word index\n",
        "word_index = tokenizer.word_index\n",
        "print(f\"Total unique words: {len(word_index)}\")"
      ]
    },
    {
      "cell_type": "code",
      "execution_count": null,
      "metadata": {
        "id": "XUd_LsbWuOif"
      },
      "outputs": [],
      "source": [
        "# Get word counts\n",
        "word_counts = tokenizer.word_counts\n",
        "\n",
        "# Sort the words by frequency\n",
        "sorted_word_counts = sorted(word_counts.items(), key=lambda x: x[1], reverse=True)"
      ]
    },
    {
      "cell_type": "code",
      "execution_count": null,
      "metadata": {
        "colab": {
          "base_uri": "https://localhost:8080/"
        },
        "id": "1fh2a9zetqVy",
        "outputId": "85ba9ded-cfc7-43f5-f478-56d9d6a0cc72"
      },
      "outputs": [
        {
          "output_type": "display_data",
          "data": {
            "text/plain": [
              "<Figure size 1000x600 with 1 Axes>"
            ],
            "image/png": "[encoded data removed]"
          },
          "metadata": {}
        }
      ],
      "source": [
        "# Calculate cumulative frequency distribution\n",
        "cumulative_counts = [count for word, count in sorted_word_counts] #collects the count of each unique word\n",
        "cumulative_counts = [sum(cumulative_counts[:i+1]) for i in range(len(cumulative_counts))]\n",
        "\n",
        "# Plot the cumulative frequency distribution\n",
        "plt.figure(figsize=(10, 6))\n",
        "plt.plot(range(1, len(cumulative_counts)+1), cumulative_counts)\n",
        "plt.xlabel('Number of Words')\n",
        "plt.ylabel('Cumulative Frequency')\n",
        "plt.title('Cumulative Word Frequency Distribution')\n",
        "plt.grid(True)\n",
        "plt.show()"
      ]
    },
    {
      "cell_type": "code",
      "execution_count": null,
      "metadata": {
        "colab": {
          "base_uri": "https://localhost:8080/"
        },
        "id": "p8I0ZoGxtt7N",
        "outputId": "6b0eb24e-28d9-42ba-af5b-3684b3e2381c"
      },
      "outputs": [
        {
          "output_type": "stream",
          "name": "stdout",
          "text": [
            "Vocabulary size covering 90% of the total word usage: 7601\n"
          ]
        }
      ],
      "source": [
        "# Calculate total word count\n",
        "total_word_count = cumulative_counts[-1]\n",
        "\n",
        "# Find the smallest number of words that cover 90% of the total word usage\n",
        "threshold = 0.90 * total_word_count\n",
        "vocab_size = next(i for i, count in enumerate(cumulative_counts) if count > threshold) + 1\n",
        "print(f\"Vocabulary size covering 90% of the total word usage: {vocab_size}\")"
      ]
    },
    {
      "cell_type": "markdown",
      "metadata": {
        "id": "vDCL2-drt8yC"
      },
      "source": [
        "## Actual Sequence Data Transformation"
      ]
    },
    {
      "cell_type": "code",
      "execution_count": null,
      "metadata": {
        "id": "diU5n7b5ibmC"
      },
      "outputs": [],
      "source": [
        "oov_token = \"<OOV>\"\n",
        "max_text_length = 400\n",
        "vocab_size = 20000\n",
        "\n",
        "# Save the tokenizer\n",
        "def save_tokenizer(tokenizer, num_words = vocab_size):\n",
        "    os.makedirs('./models/', exist_ok=True)\n",
        "    filepath = './models/' + 'tokenizer_' + str(num_words) + '.json'\n",
        "    with io.open(filepath, 'w', encoding='utf-8') as outfile:\n",
        "        outfile.write(json.dumps(tokenizer.to_json(), ensure_ascii=False))\n",
        "    outfile.close()\n",
        "    return\n",
        "\n",
        "# Initialize and fit the tokenizer with the determined vocab_size\n",
        "tokenizer = Tokenizer(oov_token = oov_token, num_words = vocab_size)\n",
        "tokenizer.fit_on_texts(X_train)\n",
        "save_tokenizer(tokenizer)\n",
        "\n",
        "def sequence_data_transformation(texts, tokenizer):\n",
        "  # Convert texts to sequences\n",
        "  sequences = tokenizer.texts_to_sequences(texts)\n",
        "  return sequences\n",
        "\n",
        "def pad_sequences_data(sequences, max_text_length):\n",
        "  # Pad sequences to ensure uniform length\n",
        "  padded_sequences = pad_sequences(sequences, maxlen=max_text_length, padding='post')\n",
        "  return padded_sequences"
      ]
    },
    {
      "cell_type": "code",
      "execution_count": null,
      "metadata": {
        "id": "DMPhDwMx4DwU"
      },
      "outputs": [],
      "source": [
        "train_text_seq = sequence_data_transformation(X_train,tokenizer)\n",
        "test_text_seq = sequence_data_transformation(X_test,tokenizer)\n",
        "\n",
        "train_text_padded = pad_sequences_data(train_text_seq,max_text_length)\n",
        "test_text_padded = pad_sequences_data(test_text_seq,max_text_length)"
      ]
    },
    {
      "cell_type": "code",
      "execution_count": null,
      "metadata": {
        "id": "Gv4DWsdG8mk-",
        "colab": {
          "base_uri": "https://localhost:8080/"
        },
        "outputId": "4f31a765-49da-4dad-ca40-2149725f8899"
      },
      "outputs": [
        {
          "output_type": "stream",
          "name": "stdout",
          "text": [
            "(14304, 400)\n",
            "(3576, 400)\n",
            "(14304,)\n",
            "(3576,)\n"
          ]
        }
      ],
      "source": [
        "print(train_text_padded.shape)\n",
        "print(test_text_padded.shape)\n",
        "print(y_train.shape)\n",
        "print(y_test.shape)"
      ]
    },
    {
      "cell_type": "markdown",
      "metadata": {
        "id": "UYR75uKJ93qt"
      },
      "source": [
        "# Feature Engineering"
      ]
    },
    {
      "cell_type": "code",
      "execution_count": null,
      "metadata": {
        "id": "zOmdrQQZJ-ED",
        "colab": {
          "base_uri": "https://localhost:8080/"
        },
        "outputId": "9e434c6c-c7cd-40d6-f9af-4e4aeb97a380"
      },
      "outputs": [
        {
          "output_type": "stream",
          "name": "stdout",
          "text": [
            "Collecting wget\n",
            "  Downloading wget-3.2.zip (10 kB)\n",
            "  Preparing metadata (setup.py) ... \u001b[?25l\u001b[?25hdone\n",
            "Building wheels for collected packages: wget\n",
            "  Building wheel for wget (setup.py) ... \u001b[?25l\u001b[?25hdone\n",
            "  Created wheel for wget: filename=wget-3.2-py3-none-any.whl size=9656 sha256=6cd8b36e81f0f7ac3938c8dc2e23096f82751567b963c3f6f6eaf6da8186a1a2\n",
            "  Stored in directory: /root/.cache/pip/wheels/8b/f1/7f/5c94f0a7a505ca1c81cd1d9208ae2064675d97582078e6c769\n",
            "Successfully built wget\n",
            "Installing collected packages: wget\n",
            "Successfully installed wget-3.2\n"
          ]
        }
      ],
      "source": [
        "!pip install wget"
      ]
    },
    {
      "cell_type": "code",
      "execution_count": null,
      "metadata": {
        "colab": {
          "base_uri": "https://localhost:8080/"
        },
        "id": "HiKXep-8Ey58",
        "outputId": "f6f088ce-5a4e-477e-b8a0-cc8b71dc0417"
      },
      "outputs": [
        {
          "output_type": "stream",
          "name": "stdout",
          "text": [
            "glove pretrained model not exists..downloading start..\n",
            "File Name                                             Modified             Size\n",
            "glove.6B.50d.txt                               2014-08-04 13:15:00    171350079\n",
            "glove.6B.100d.txt                              2014-08-04 13:14:34    347116733\n",
            "glove.6B.200d.txt                              2014-08-04 13:14:44    693432828\n",
            "glove.6B.300d.txt                              2014-08-27 12:19:16   1037962819\n"
          ]
        }
      ],
      "source": [
        "import wget\n",
        "\n",
        "# Define constants for word embeddings\n",
        "GLOVE_URL = \"http://nlp.stanford.edu/data/glove.6B.zip\"\n",
        "GLOVE_DIR = \"./glove/\"\n",
        "GLOVE_ZIP_FILE = os.path.join(GLOVE_DIR, \"glove.6B.zip\")\n",
        "GLOVE_FILE_PATH = os.path.join(GLOVE_DIR, \"glove.6B.100d.txt\")  # Adjust based on the dimensions you need\n",
        "\n",
        "def extractGlovefile(glove_dir=GLOVE_DIR, glove_url=GLOVE_URL):\n",
        "    os.makedirs(glove_dir, exist_ok=True)\n",
        "    file_zip = pathlib.Path(glove_dir + \"glove.6B.zip\")\n",
        "    if file_zip.exists():\n",
        "        with ZipFile(glove_dir + 'glove.6B.zip', 'r') as zip:\n",
        "            zip.printdir()\n",
        "            zip.extractall(glove_dir)\n",
        "    else:\n",
        "        print(\"glove pretrained model not exists..downloading start..\")\n",
        "        wget.download(glove_url, out=glove_dir)\n",
        "        with ZipFile(glove_dir + 'glove.6B.zip', 'r') as zip:\n",
        "            zip.printdir()\n",
        "            zip.extractall(glove_dir) #extracting the files\n",
        "\n",
        "\n",
        "extractGlovefile()"
      ]
    },
    {
      "cell_type": "code",
      "source": [
        "VOCAB_SIZE = 20000\n",
        "EMB_DIM = 100\n",
        "MAX_TEXT_LENGTH = 400"
      ],
      "metadata": {
        "id": "y-JtCg2Ht3zy"
      },
      "execution_count": null,
      "outputs": []
    },
    {
      "cell_type": "code",
      "execution_count": null,
      "metadata": {
        "id": "lJExXv_ZKC5u"
      },
      "outputs": [],
      "source": [
        "# Function to read GloVe embeddings\n",
        "def read_glove_embeddings(glove_file_path=GLOVE_FILE_PATH):\n",
        "    # Read GloVe embeddings into a DataFrame\n",
        "    # used read_table before now read_csv\n",
        "    word_vec = pd.read_csv(glove_file_path, sep=r\"\\s\", header=None, engine='python', encoding='iso-8859-1', on_bad_lines='skip')\n",
        "    word_vec.set_index(0, inplace=True)\n",
        "    print('Found %s word vectors.' % len(word_vec))\n",
        "    return word_vec"
      ]
    },
    {
      "cell_type": "code",
      "execution_count": null,
      "metadata": {
        "id": "eC9fQZ6JKg5O"
      },
      "outputs": [],
      "source": [
        "# Function to create the embedding matrix\n",
        "def glove_embeddings(tokenizer, embeddings_index, vocab_size=VOCAB_SIZE, emb_dim=EMB_DIM):\n",
        "    embedding_matrix = np.zeros((vocab_size, emb_dim))\n",
        "\n",
        "    index_n_word = [(i, tokenizer.index_word[i]) for i in range(1, vocab_size) if tokenizer.index_word[i] in embeddings_index.index]\n",
        "    idx, word = zip(*index_n_word)\n",
        "    embedding_matrix[list(idx), :] = embeddings_index.loc[list(word), :].values\n",
        "\n",
        "    return embedding_matrix"
      ]
    },
    {
      "cell_type": "code",
      "execution_count": null,
      "metadata": {
        "id": "JfWh2yF6Ko7B"
      },
      "outputs": [],
      "source": [
        "def build_embeddings(tokenizer, vocab_size=VOCAB_SIZE, emb_dim=EMB_DIM, max_text_length=MAX_TEXT_LENGTH):\n",
        "\n",
        "    embeddings_index = read_glove_embeddings()\n",
        "    embedding_matrix = glove_embeddings(tokenizer, embeddings_index, vocab_size, emb_dim)\n",
        "    embedding_layer = Embedding(input_dim=vocab_size, output_dim=emb_dim, input_length=max_text_length,\n",
        "                                weights=[embedding_matrix], trainable=False)\n",
        "\n",
        "    return embedding_layer"
      ]
    },
    {
      "cell_type": "code",
      "execution_count": null,
      "metadata": {
        "colab": {
          "base_uri": "https://localhost:8080/"
        },
        "id": "dzFPdNJVLY9C",
        "outputId": "2289f592-e188-42cb-a320-c2a98015c315"
      },
      "outputs": [
        {
          "output_type": "stream",
          "name": "stdout",
          "text": [
            "Found 399823 word vectors.\n"
          ]
        },
        {
          "output_type": "stream",
          "name": "stderr",
          "text": [
            "/usr/local/lib/python3.10/dist-packages/keras/src/layers/core/embedding.py:90: UserWarning: Argument `input_length` is deprecated. Just remove it.\n",
            "  warnings.warn(\n"
          ]
        }
      ],
      "source": [
        "embedding_layer = build_embeddings(tokenizer)"
      ]
    },
    {
      "cell_type": "markdown",
      "source": [
        "# Model building, training, and evaluation"
      ],
      "metadata": {
        "id": "4AcURsUAuq63"
      }
    },
    {
      "cell_type": "code",
      "source": [
        "def build_lstm(embedding_layer):\n",
        "    model = Sequential()\n",
        "    model.add(embedding_layer)\n",
        "    model.add(LSTM(128, return_sequences=False))\n",
        "    model.add(Dropout(0.2))\n",
        "    model.add(Dense(32, activation='relu'))\n",
        "    model.add(Dropout(0.2))\n",
        "    model.add(Dense(1, activation='sigmoid'))\n",
        "\n",
        "    model.compile(optimizer='adam', loss='binary_crossentropy', metrics=['accuracy'])\n",
        "\n",
        "    return model\n",
        "\n",
        "def build_gru(embedding_layer):\n",
        "    model = Sequential()\n",
        "    model.add(embedding_layer)\n",
        "    model.add(GRU(128, return_sequences=False))\n",
        "    model.add(Dropout(0.3))\n",
        "    model.add(Dense(32, activation='relu'))\n",
        "    model.add(Dropout(0.3))\n",
        "    model.add(Dense(1, activation='sigmoid'))\n",
        "\n",
        "    model.compile(optimizer='adam', loss='binary_crossentropy', metrics=['accuracy'])\n",
        "\n",
        "    return model"
      ],
      "metadata": {
        "id": "kgn8MteyusTd"
      },
      "execution_count": null,
      "outputs": []
    },
    {
      "cell_type": "code",
      "source": [
        "def plot_training_history(history):\n",
        "    plt.plot(history.history['accuracy'])\n",
        "    plt.plot(history.history['val_accuracy'])\n",
        "    plt.title('model accuracy')\n",
        "    plt.ylabel('accuracy')\n",
        "    plt.xlabel('epoch')\n",
        "    plt.legend(['train', 'val'], loc='upper left')\n",
        "    plt.show()"
      ],
      "metadata": {
        "id": "UWla6Cguvt-G"
      },
      "execution_count": null,
      "outputs": []
    },
    {
      "cell_type": "code",
      "source": [
        "def model_evaluation(model, X_test, y_test):\n",
        "    return model.evaluate(X_test, y_test)"
      ],
      "metadata": {
        "id": "eMOR-PtoyGJe"
      },
      "execution_count": null,
      "outputs": []
    },
    {
      "cell_type": "code",
      "source": [
        "import matplotlib.pyplot as plt\n",
        "import pandas as pd\n",
        "from os.path import exists\n",
        "from datetime import datetime\n",
        "from sklearn.metrics import accuracy_score, precision_score, recall_score, f1_score\n",
        "\n",
        "def plot_training_history(history):\n",
        "    plt.plot(history.history['accuracy'])\n",
        "    plt.plot(history.history['val_accuracy'])\n",
        "    plt.title('model accuracy')\n",
        "    plt.ylabel('accuracy')\n",
        "    plt.xlabel('epoch')\n",
        "    plt.legend(['train', 'val'], loc='upper left')\n",
        "    plt.show()\n",
        "\n",
        "def model_evaluation(model, X_test, y_test):\n",
        "    return model.evaluate(X_test, y_test)\n",
        "\n",
        "\n",
        "def performance_report(model, X_test, y_test, model_name, type, report_dir='./reports/'):\n",
        "    os.makedirs('./reports/', exist_ok=True)\n",
        "\n",
        "    #time = date.today()\n",
        "    time = datetime.now().strftime('%Y-%m-%d %H:%M:%S')\n",
        "\n",
        "    # predict probabilities for test set\n",
        "    yhat_probs = model.predict(X_test, verbose=0)\n",
        "\n",
        "    # predict crisp classes for test set\n",
        "    #yhat_classes = model.predict_classes(X_test, verbose=0)\n",
        "    yhat_classes = (model.predict(X_test) > 0.5).astype(\"int32\")\n",
        "\n",
        "    # reduce to 1d array\n",
        "    yhat_probs = yhat_probs[:, 0]\n",
        "    yhat_classes = yhat_classes[:, 0]\n",
        "\n",
        "    # accuracy: (tp + tn) / (p + n)\n",
        "    accuracy = accuracy_score(y_test, yhat_classes)\n",
        "    print('Accuracy: %f' % accuracy)\n",
        "    # precision tp / (tp + fp)\n",
        "    precision = precision_score(y_test, yhat_classes)\n",
        "    print('Precision: %f' % precision)\n",
        "    # recall: tp / (tp + fn)\n",
        "    recall = recall_score(y_test, yhat_classes)\n",
        "    print('Recall: %f' % recall)\n",
        "    # f1: 2 tp / (2 tp + fp + fn)\n",
        "    f1 = f1_score(y_test, yhat_classes)\n",
        "    print('F1 score: %f' % f1)\n",
        "\n",
        "    if exists(report_dir + 'report.csv'):\n",
        "        df = pd.read_csv(report_dir + 'report.csv')\n",
        "    else:\n",
        "        df = pd.DataFrame(columns=['time', 'model_name', 'type', 'accuracy', 'precision', 'recall', 'f1'])\n",
        "\n",
        "    new_row = pd.DataFrame({\n",
        "      'time': [time],\n",
        "      'model_name': [model_name],\n",
        "      'type': [type],\n",
        "      'accuracy': [accuracy],\n",
        "      'precision': [precision],\n",
        "      'recall': [recall],\n",
        "      'f1': [f1]\n",
        "    })\n",
        "\n",
        "    df = pd.concat([df, new_row], ignore_index=True)\n",
        "\n",
        "    df.to_csv(report_dir + 'report.csv', index=False)\n",
        "    return df"
      ],
      "metadata": {
        "id": "CTevwWzy_ot5"
      },
      "execution_count": null,
      "outputs": []
    },
    {
      "cell_type": "code",
      "source": [
        "def save_model_to_file(model, model_name, index, output_dir='./models/'):\n",
        "    os.makedirs('./models/', exist_ok=True)\n",
        "\n",
        "    # Model file names\n",
        "    json_file_path = os.path.join(output_dir, f'{model_name}_{index}.json')\n",
        "    h5_file_path = os.path.join(output_dir, f'{model_name}_{index}.weights.h5')\n",
        "\n",
        "    # Save model architecture as JSON\n",
        "    model_json = model.to_json()\n",
        "    with open(json_file_path, 'w') as json_file:\n",
        "        json_file.write(model_json)\n",
        "\n",
        "    # Save model weights as HDF5\n",
        "    model.save_weights(h5_file_path)"
      ],
      "metadata": {
        "id": "GtHoCq0Kl9-9"
      },
      "execution_count": null,
      "outputs": []
    },
    {
      "cell_type": "code",
      "source": [
        "model_lstm = build_lstm(embedding_layer)\n",
        "history = model_lstm.fit(train_text_padded, y_train, epochs=20, batch_size=256, validation_split=0.2)\n",
        "plot_training_history(history)\n",
        "save_model_to_file(model_lstm, 'lstm', 1)\n",
        "# accuracy_score = model_evaluation(model_lstm, test_text_padded, y_test)\n",
        "performance_report(model_lstm, test_text_padded, y_test, 'lstm', 'train')"
      ],
      "metadata": {
        "colab": {
          "base_uri": "https://localhost:8080/",
          "height": 1000
        },
        "id": "ZLw6icHFvOSP",
        "outputId": "c274bcd6-002e-4f0f-e764-2c7b9f51170d"
      },
      "execution_count": null,
      "outputs": [
        {
          "output_type": "stream",
          "name": "stdout",
          "text": [
            "Epoch 1/20\n",
            "\u001b[1m45/45\u001b[0m \u001b[32m━━━━━━━━━━━━━━━━━━━━\u001b[0m\u001b[37m\u001b[0m \u001b[1m6s\u001b[0m 66ms/step - accuracy: 0.9329 - loss: 0.4532 - val_accuracy: 0.9535 - val_loss: 0.1890\n",
            "Epoch 2/20\n",
            "\u001b[1m45/45\u001b[0m \u001b[32m━━━━━━━━━━━━━━━━━━━━\u001b[0m\u001b[37m\u001b[0m \u001b[1m4s\u001b[0m 52ms/step - accuracy: 0.9501 - loss: 0.2033 - val_accuracy: 0.9535 - val_loss: 0.1861\n",
            "Epoch 3/20\n",
            "\u001b[1m45/45\u001b[0m \u001b[32m━━━━━━━━━━━━━━━━━━━━\u001b[0m\u001b[37m\u001b[0m \u001b[1m2s\u001b[0m 49ms/step - accuracy: 0.9501 - loss: 0.2018 - val_accuracy: 0.9535 - val_loss: 0.1856\n",
            "Epoch 4/20\n",
            "\u001b[1m45/45\u001b[0m \u001b[32m━━━━━━━━━━━━━━━━━━━━\u001b[0m\u001b[37m\u001b[0m \u001b[1m2s\u001b[0m 49ms/step - accuracy: 0.9521 - loss: 0.1949 - val_accuracy: 0.9535 - val_loss: 0.1854\n",
            "Epoch 5/20\n",
            "\u001b[1m45/45\u001b[0m \u001b[32m━━━━━━━━━━━━━━━━━━━━\u001b[0m\u001b[37m\u001b[0m \u001b[1m3s\u001b[0m 50ms/step - accuracy: 0.9536 - loss: 0.1909 - val_accuracy: 0.9535 - val_loss: 0.1840\n",
            "Epoch 6/20\n",
            "\u001b[1m45/45\u001b[0m \u001b[32m━━━━━━━━━━━━━━━━━━━━\u001b[0m\u001b[37m\u001b[0m \u001b[1m3s\u001b[0m 51ms/step - accuracy: 0.9493 - loss: 0.1996 - val_accuracy: 0.9535 - val_loss: 0.1834\n",
            "Epoch 7/20\n",
            "\u001b[1m45/45\u001b[0m \u001b[32m━━━━━━━━━━━━━━━━━━━━\u001b[0m\u001b[37m\u001b[0m \u001b[1m2s\u001b[0m 50ms/step - accuracy: 0.9504 - loss: 0.1975 - val_accuracy: 0.9535 - val_loss: 0.1915\n",
            "Epoch 8/20\n",
            "\u001b[1m45/45\u001b[0m \u001b[32m━━━━━━━━━━━━━━━━━━━━\u001b[0m\u001b[37m\u001b[0m \u001b[1m2s\u001b[0m 51ms/step - accuracy: 0.9555 - loss: 0.1860 - val_accuracy: 0.9539 - val_loss: 0.1824\n",
            "Epoch 9/20\n",
            "\u001b[1m45/45\u001b[0m \u001b[32m━━━━━━━━━━━━━━━━━━━━\u001b[0m\u001b[37m\u001b[0m \u001b[1m2s\u001b[0m 49ms/step - accuracy: 0.9488 - loss: 0.2029 - val_accuracy: 0.9553 - val_loss: 0.1811\n",
            "Epoch 10/20\n",
            "\u001b[1m45/45\u001b[0m \u001b[32m━━━━━━━━━━━━━━━━━━━━\u001b[0m\u001b[37m\u001b[0m \u001b[1m3s\u001b[0m 51ms/step - accuracy: 0.9557 - loss: 0.1835 - val_accuracy: 0.9553 - val_loss: 0.1815\n",
            "Epoch 11/20\n",
            "\u001b[1m45/45\u001b[0m \u001b[32m━━━━━━━━━━━━━━━━━━━━\u001b[0m\u001b[37m\u001b[0m \u001b[1m2s\u001b[0m 48ms/step - accuracy: 0.9534 - loss: 0.1881 - val_accuracy: 0.9560 - val_loss: 0.1810\n",
            "Epoch 12/20\n",
            "\u001b[1m45/45\u001b[0m \u001b[32m━━━━━━━━━━━━━━━━━━━━\u001b[0m\u001b[37m\u001b[0m \u001b[1m2s\u001b[0m 47ms/step - accuracy: 0.9529 - loss: 0.1927 - val_accuracy: 0.9553 - val_loss: 0.1807\n",
            "Epoch 13/20\n",
            "\u001b[1m45/45\u001b[0m \u001b[32m━━━━━━━━━━━━━━━━━━━━\u001b[0m\u001b[37m\u001b[0m \u001b[1m3s\u001b[0m 48ms/step - accuracy: 0.9570 - loss: 0.1792 - val_accuracy: 0.9553 - val_loss: 0.1824\n",
            "Epoch 14/20\n",
            "\u001b[1m45/45\u001b[0m \u001b[32m━━━━━━━━━━━━━━━━━━━━\u001b[0m\u001b[37m\u001b[0m \u001b[1m2s\u001b[0m 49ms/step - accuracy: 0.9526 - loss: 0.1931 - val_accuracy: 0.9553 - val_loss: 0.1818\n",
            "Epoch 15/20\n",
            "\u001b[1m45/45\u001b[0m \u001b[32m━━━━━━━━━━━━━━━━━━━━\u001b[0m\u001b[37m\u001b[0m \u001b[1m2s\u001b[0m 50ms/step - accuracy: 0.9552 - loss: 0.1830 - val_accuracy: 0.9553 - val_loss: 0.1813\n",
            "Epoch 16/20\n",
            "\u001b[1m45/45\u001b[0m \u001b[32m━━━━━━━━━━━━━━━━━━━━\u001b[0m\u001b[37m\u001b[0m \u001b[1m3s\u001b[0m 53ms/step - accuracy: 0.9563 - loss: 0.1784 - val_accuracy: 0.9546 - val_loss: 0.1831\n",
            "Epoch 17/20\n",
            "\u001b[1m45/45\u001b[0m \u001b[32m━━━━━━━━━━━━━━━━━━━━\u001b[0m\u001b[37m\u001b[0m \u001b[1m2s\u001b[0m 51ms/step - accuracy: 0.9538 - loss: 0.1866 - val_accuracy: 0.9549 - val_loss: 0.1845\n",
            "Epoch 18/20\n",
            "\u001b[1m45/45\u001b[0m \u001b[32m━━━━━━━━━━━━━━━━━━━━\u001b[0m\u001b[37m\u001b[0m \u001b[1m3s\u001b[0m 52ms/step - accuracy: 0.9522 - loss: 0.1948 - val_accuracy: 0.9549 - val_loss: 0.1837\n",
            "Epoch 19/20\n",
            "\u001b[1m45/45\u001b[0m \u001b[32m━━━━━━━━━━━━━━━━━━━━\u001b[0m\u001b[37m\u001b[0m \u001b[1m2s\u001b[0m 50ms/step - accuracy: 0.9520 - loss: 0.1929 - val_accuracy: 0.9549 - val_loss: 0.1844\n",
            "Epoch 20/20\n",
            "\u001b[1m45/45\u001b[0m \u001b[32m━━━━━━━━━━━━━━━━━━━━\u001b[0m\u001b[37m\u001b[0m \u001b[1m3s\u001b[0m 50ms/step - accuracy: 0.9525 - loss: 0.1913 - val_accuracy: 0.9549 - val_loss: 0.1865\n"
          ]
        },
        {
          "output_type": "display_data",
          "data": {
            "text/plain": [
              "<Figure size 640x480 with 1 Axes>"
            ],
            "image/png": "[encoded data removed]"
          },
          "metadata": {}
        },
        {
          "output_type": "stream",
          "name": "stdout",
          "text": [
            "\u001b[1m112/112\u001b[0m \u001b[32m━━━━━━━━━━━━━━━━━━━━\u001b[0m\u001b[37m\u001b[0m \u001b[1m1s\u001b[0m 6ms/step\n",
            "Accuracy: 0.955537\n",
            "Precision: 0.937500\n",
            "Recall: 0.086705\n",
            "F1 score: 0.158730\n"
          ]
        },
        {
          "output_type": "stream",
          "name": "stderr",
          "text": [
            "<ipython-input-83-f24f0c91ba03>:65: FutureWarning: The behavior of DataFrame concatenation with empty or all-NA entries is deprecated. In a future version, this will no longer exclude empty or all-NA columns when determining the result dtypes. To retain the old behavior, exclude the relevant entries before the concat operation.\n",
            "  df = pd.concat([df, new_row], ignore_index=True)\n"
          ]
        },
        {
          "output_type": "execute_result",
          "data": {
            "text/plain": [
              "                  time model_name   type  accuracy  precision    recall  \\\n",
              "0  2024-08-02 20:08:33       lstm  train  0.955537     0.9375  0.086705   \n",
              "\n",
              "        f1  \n",
              "0  0.15873  "
            ],
            "text/html": [
              "\n",
              "  <div id=\"df-c8591526-c889-47fb-9d82-faffafae4b22\" class=\"colab-df-container\">\n",
              "    <div>\n",
              "<style scoped>\n",
              "    .dataframe tbody tr th:only-of-type {\n",
              "        vertical-align: middle;\n",
              "    }\n",
              "\n",
              "    .dataframe tbody tr th {\n",
              "        vertical-align: top;\n",
              "    }\n",
              "\n",
              "    .dataframe thead th {\n",
              "        text-align: right;\n",
              "    }\n",
              "</style>\n",
              "<table border=\"1\" class=\"dataframe\">\n",
              "  <thead>\n",
              "    <tr style=\"text-align: right;\">\n",
              "      <th></th>\n",
              "      <th>time</th>\n",
              "      <th>model_name</th>\n",
              "      <th>type</th>\n",
              "      <th>accuracy</th>\n",
              "      <th>precision</th>\n",
              "      <th>recall</th>\n",
              "      <th>f1</th>\n",
              "    </tr>\n",
              "  </thead>\n",
              "  <tbody>\n",
              "    <tr>\n",
              "      <th>0</th>\n",
              "      <td>2024-08-02 20:08:33</td>\n",
              "      <td>lstm</td>\n",
              "      <td>train</td>\n",
              "      <td>0.955537</td>\n",
              "      <td>0.9375</td>\n",
              "      <td>0.086705</td>\n",
              "      <td>0.15873</td>\n",
              "    </tr>\n",
              "  </tbody>\n",
              "</table>\n",
              "</div>\n",
              "    <div class=\"colab-df-buttons\">\n",
              "\n",
              "  <div class=\"colab-df-container\">\n",
              "    <button class=\"colab-df-convert\" onclick=\"convertToInteractive('df-c8591526-c889-47fb-9d82-faffafae4b22')\"\n",
              "            title=\"Convert this dataframe to an interactive table.\"\n",
              "            style=\"display:none;\">\n",
              "\n",
              "  <svg xmlns=\"http://www.w3.org/2000/svg\" height=\"24px\" viewBox=\"0 -960 960 960\">\n",
              "    <path d=\"M120-120v-720h720v720H120Zm60-500h600v-160H180v160Zm220 220h160v-160H400v160Zm0 220h160v-160H400v160ZM180-400h160v-160H180v160Zm440 0h160v-160H620v160ZM180-180h160v-160H180v160Zm440 0h160v-160H620v160Z\"/>\n",
              "  </svg>\n",
              "    </button>\n",
              "\n",
              "  <style>\n",
              "    .colab-df-container {\n",
              "      display:flex;\n",
              "      gap: 12px;\n",
              "    }\n",
              "\n",
              "    .colab-df-convert {\n",
              "      background-color: #E8F0FE;\n",
              "      border: none;\n",
              "      border-radius: 50%;\n",
              "      cursor: pointer;\n",
              "      display: none;\n",
              "      fill: #1967D2;\n",
              "      height: 32px;\n",
              "      padding: 0 0 0 0;\n",
              "      width: 32px;\n",
              "    }\n",
              "\n",
              "    .colab-df-convert:hover {\n",
              "      background-color: #E2EBFA;\n",
              "      box-shadow: 0px 1px 2px rgba(60, 64, 67, 0.3), 0px 1px 3px 1px rgba(60, 64, 67, 0.15);\n",
              "      fill: #174EA6;\n",
              "    }\n",
              "\n",
              "    .colab-df-buttons div {\n",
              "      margin-bottom: 4px;\n",
              "    }\n",
              "\n",
              "    [theme=dark] .colab-df-convert {\n",
              "      background-color: #3B4455;\n",
              "      fill: #D2E3FC;\n",
              "    }\n",
              "\n",
              "    [theme=dark] .colab-df-convert:hover {\n",
              "      background-color: #434B5C;\n",
              "      box-shadow: 0px 1px 3px 1px rgba(0, 0, 0, 0.15);\n",
              "      filter: drop-shadow(0px 1px 2px rgba(0, 0, 0, 0.3));\n",
              "      fill: #FFFFFF;\n",
              "    }\n",
              "  </style>\n",
              "\n",
              "    <script>\n",
              "      const buttonEl =\n",
              "        document.querySelector('#df-c8591526-c889-47fb-9d82-faffafae4b22 button.colab-df-convert');\n",
              "      buttonEl.style.display =\n",
              "        google.colab.kernel.accessAllowed ? 'block' : 'none';\n",
              "\n",
              "      async function convertToInteractive(key) {\n",
              "        const element = document.querySelector('#df-c8591526-c889-47fb-9d82-faffafae4b22');\n",
              "        const dataTable =\n",
              "          await google.colab.kernel.invokeFunction('convertToInteractive',\n",
              "                                                    [key], {});\n",
              "        if (!dataTable) return;\n",
              "\n",
              "        const docLinkHtml = 'Like what you see? Visit the ' +\n",
              "          '<a target=\"_blank\" href=https://colab.research.google.com/notebooks/data_table.ipynb>data table notebook</a>'\n",
              "          + ' to learn more about interactive tables.';\n",
              "        element.innerHTML = '';\n",
              "        dataTable['output_type'] = 'display_data';\n",
              "        await google.colab.output.renderOutput(dataTable, element);\n",
              "        const docLink = document.createElement('div');\n",
              "        docLink.innerHTML = docLinkHtml;\n",
              "        element.appendChild(docLink);\n",
              "      }\n",
              "    </script>\n",
              "  </div>\n",
              "\n",
              "\n",
              "    </div>\n",
              "  </div>\n"
            ],
            "application/vnd.google.colaboratory.intrinsic+json": {
              "type": "dataframe",
              "summary": "{\n  \"name\": \"performance_report(model_lstm, test_text_padded, y_test, 'lstm', 'train')\",\n  \"rows\": 1,\n  \"fields\": [\n    {\n      \"column\": \"time\",\n      \"properties\": {\n        \"dtype\": \"object\",\n        \"num_unique_values\": 1,\n        \"samples\": [\n          \"2024-08-02 20:08:33\"\n        ],\n        \"semantic_type\": \"\",\n        \"description\": \"\"\n      }\n    },\n    {\n      \"column\": \"model_name\",\n      \"properties\": {\n        \"dtype\": \"string\",\n        \"num_unique_values\": 1,\n        \"samples\": [\n          \"lstm\"\n        ],\n        \"semantic_type\": \"\",\n        \"description\": \"\"\n      }\n    },\n    {\n      \"column\": \"type\",\n      \"properties\": {\n        \"dtype\": \"string\",\n        \"num_unique_values\": 1,\n        \"samples\": [\n          \"train\"\n        ],\n        \"semantic_type\": \"\",\n        \"description\": \"\"\n      }\n    },\n    {\n      \"column\": \"accuracy\",\n      \"properties\": {\n        \"dtype\": \"number\",\n        \"std\": null,\n        \"min\": 0.9555369127516778,\n        \"max\": 0.9555369127516778,\n        \"num_unique_values\": 1,\n        \"samples\": [\n          0.9555369127516778\n        ],\n        \"semantic_type\": \"\",\n        \"description\": \"\"\n      }\n    },\n    {\n      \"column\": \"precision\",\n      \"properties\": {\n        \"dtype\": \"number\",\n        \"std\": null,\n        \"min\": 0.9375,\n        \"max\": 0.9375,\n        \"num_unique_values\": 1,\n        \"samples\": [\n          0.9375\n        ],\n        \"semantic_type\": \"\",\n        \"description\": \"\"\n      }\n    },\n    {\n      \"column\": \"recall\",\n      \"properties\": {\n        \"dtype\": \"number\",\n        \"std\": null,\n        \"min\": 0.08670520231213873,\n        \"max\": 0.08670520231213873,\n        \"num_unique_values\": 1,\n        \"samples\": [\n          0.08670520231213873\n        ],\n        \"semantic_type\": \"\",\n        \"description\": \"\"\n      }\n    },\n    {\n      \"column\": \"f1\",\n      \"properties\": {\n        \"dtype\": \"number\",\n        \"std\": null,\n        \"min\": 0.15873015873015875,\n        \"max\": 0.15873015873015875,\n        \"num_unique_values\": 1,\n        \"samples\": [\n          0.15873015873015875\n        ],\n        \"semantic_type\": \"\",\n        \"description\": \"\"\n      }\n    }\n  ]\n}"
            }
          },
          "metadata": {},
          "execution_count": 84
        }
      ]
    },
    {
      "cell_type": "code",
      "source": [
        "model_gru = build_gru(embedding_layer)\n",
        "history = model_gru.fit(train_text_padded, y_train, epochs=20, batch_size=256, validation_split=0.2)\n",
        "plot_training_history(history)\n",
        "save_model_to_file(model_gru, 'gru', 1)\n",
        "performance_report(model_gru, test_text_padded, y_test, 'gru', 'train')"
      ],
      "metadata": {
        "id": "-MTServ2x-f2",
        "colab": {
          "base_uri": "https://localhost:8080/",
          "height": 1000
        },
        "outputId": "d3f27c65-0e57-420e-81e7-99b2d011fe66"
      },
      "execution_count": null,
      "outputs": [
        {
          "output_type": "stream",
          "name": "stdout",
          "text": [
            "Epoch 1/20\n",
            "\u001b[1m45/45\u001b[0m \u001b[32m━━━━━━━━━━━━━━━━━━━━\u001b[0m\u001b[37m\u001b[0m \u001b[1m4s\u001b[0m 46ms/step - accuracy: 0.9496 - loss: 0.4733 - val_accuracy: 0.9535 - val_loss: 0.1848\n",
            "Epoch 2/20\n",
            "\u001b[1m45/45\u001b[0m \u001b[32m━━━━━━━━━━━━━━━━━━━━\u001b[0m\u001b[37m\u001b[0m \u001b[1m2s\u001b[0m 42ms/step - accuracy: 0.9548 - loss: 0.1875 - val_accuracy: 0.9553 - val_loss: 0.1822\n",
            "Epoch 3/20\n",
            "\u001b[1m45/45\u001b[0m \u001b[32m━━━━━━━━━━━━━━━━━━━━\u001b[0m\u001b[37m\u001b[0m \u001b[1m2s\u001b[0m 44ms/step - accuracy: 0.9510 - loss: 0.1984 - val_accuracy: 0.9556 - val_loss: 0.1822\n",
            "Epoch 4/20\n",
            "\u001b[1m45/45\u001b[0m \u001b[32m━━━━━━━━━━━━━━━━━━━━\u001b[0m\u001b[37m\u001b[0m \u001b[1m3s\u001b[0m 49ms/step - accuracy: 0.9550 - loss: 0.1871 - val_accuracy: 0.9553 - val_loss: 0.1822\n",
            "Epoch 5/20\n",
            "\u001b[1m45/45\u001b[0m \u001b[32m━━━━━━━━━━━━━━━━━━━━\u001b[0m\u001b[37m\u001b[0m \u001b[1m3s\u001b[0m 50ms/step - accuracy: 0.9505 - loss: 0.1978 - val_accuracy: 0.9553 - val_loss: 0.1819\n",
            "Epoch 6/20\n",
            "\u001b[1m45/45\u001b[0m \u001b[32m━━━━━━━━━━━━━━━━━━━━\u001b[0m\u001b[37m\u001b[0m \u001b[1m3s\u001b[0m 50ms/step - accuracy: 0.9540 - loss: 0.1882 - val_accuracy: 0.9553 - val_loss: 0.1823\n",
            "Epoch 7/20\n",
            "\u001b[1m45/45\u001b[0m \u001b[32m━━━━━━━━━━━━━━━━━━━━\u001b[0m\u001b[37m\u001b[0m \u001b[1m2s\u001b[0m 49ms/step - accuracy: 0.9550 - loss: 0.1872 - val_accuracy: 0.9546 - val_loss: 0.1845\n",
            "Epoch 8/20\n",
            "\u001b[1m45/45\u001b[0m \u001b[32m━━━━━━━━━━━━━━━━━━━━\u001b[0m\u001b[37m\u001b[0m \u001b[1m3s\u001b[0m 53ms/step - accuracy: 0.9519 - loss: 0.1950 - val_accuracy: 0.9553 - val_loss: 0.1831\n",
            "Epoch 9/20\n",
            "\u001b[1m45/45\u001b[0m \u001b[32m━━━━━━━━━━━━━━━━━━━━\u001b[0m\u001b[37m\u001b[0m \u001b[1m2s\u001b[0m 52ms/step - accuracy: 0.9522 - loss: 0.1955 - val_accuracy: 0.9553 - val_loss: 0.1839\n",
            "Epoch 10/20\n",
            "\u001b[1m45/45\u001b[0m \u001b[32m━━━━━━━━━━━━━━━━━━━━\u001b[0m\u001b[37m\u001b[0m \u001b[1m2s\u001b[0m 54ms/step - accuracy: 0.9558 - loss: 0.1814 - val_accuracy: 0.9549 - val_loss: 0.1830\n",
            "Epoch 11/20\n",
            "\u001b[1m45/45\u001b[0m \u001b[32m━━━━━━━━━━━━━━━━━━━━\u001b[0m\u001b[37m\u001b[0m \u001b[1m2s\u001b[0m 54ms/step - accuracy: 0.9541 - loss: 0.1886 - val_accuracy: 0.9556 - val_loss: 0.1840\n",
            "Epoch 12/20\n",
            "\u001b[1m45/45\u001b[0m \u001b[32m━━━━━━━━━━━━━━━━━━━━\u001b[0m\u001b[37m\u001b[0m \u001b[1m2s\u001b[0m 46ms/step - accuracy: 0.9539 - loss: 0.1845 - val_accuracy: 0.9556 - val_loss: 0.1851\n",
            "Epoch 13/20\n",
            "\u001b[1m45/45\u001b[0m \u001b[32m━━━━━━━━━━━━━━━━━━━━\u001b[0m\u001b[37m\u001b[0m \u001b[1m2s\u001b[0m 44ms/step - accuracy: 0.9550 - loss: 0.1844 - val_accuracy: 0.9556 - val_loss: 0.1841\n",
            "Epoch 14/20\n",
            "\u001b[1m45/45\u001b[0m \u001b[32m━━━━━━━━━━━━━━━━━━━━\u001b[0m\u001b[37m\u001b[0m \u001b[1m2s\u001b[0m 41ms/step - accuracy: 0.9524 - loss: 0.1943 - val_accuracy: 0.9560 - val_loss: 0.1830\n",
            "Epoch 15/20\n",
            "\u001b[1m45/45\u001b[0m \u001b[32m━━━━━━━━━━━━━━━━━━━━\u001b[0m\u001b[37m\u001b[0m \u001b[1m2s\u001b[0m 41ms/step - accuracy: 0.9558 - loss: 0.1825 - val_accuracy: 0.9560 - val_loss: 0.1836\n",
            "Epoch 16/20\n",
            "\u001b[1m45/45\u001b[0m \u001b[32m━━━━━━━━━━━━━━━━━━━━\u001b[0m\u001b[37m\u001b[0m \u001b[1m3s\u001b[0m 41ms/step - accuracy: 0.9529 - loss: 0.1908 - val_accuracy: 0.9560 - val_loss: 0.1832\n",
            "Epoch 17/20\n",
            "\u001b[1m45/45\u001b[0m \u001b[32m━━━━━━━━━━━━━━━━━━━━\u001b[0m\u001b[37m\u001b[0m \u001b[1m3s\u001b[0m 41ms/step - accuracy: 0.9525 - loss: 0.1898 - val_accuracy: 0.9560 - val_loss: 0.1844\n",
            "Epoch 18/20\n",
            "\u001b[1m45/45\u001b[0m \u001b[32m━━━━━━━━━━━━━━━━━━━━\u001b[0m\u001b[37m\u001b[0m \u001b[1m2s\u001b[0m 44ms/step - accuracy: 0.9533 - loss: 0.1898 - val_accuracy: 0.9560 - val_loss: 0.1854\n",
            "Epoch 19/20\n",
            "\u001b[1m45/45\u001b[0m \u001b[32m━━━━━━━━━━━━━━━━━━━━\u001b[0m\u001b[37m\u001b[0m \u001b[1m3s\u001b[0m 45ms/step - accuracy: 0.9539 - loss: 0.1879 - val_accuracy: 0.9553 - val_loss: 0.1851\n",
            "Epoch 20/20\n",
            "\u001b[1m45/45\u001b[0m \u001b[32m━━━━━━━━━━━━━━━━━━━━\u001b[0m\u001b[37m\u001b[0m \u001b[1m3s\u001b[0m 45ms/step - accuracy: 0.9553 - loss: 0.1817 - val_accuracy: 0.9560 - val_loss: 0.1840\n"
          ]
        },
        {
          "output_type": "display_data",
          "data": {
            "text/plain": [
              "<Figure size 640x480 with 1 Axes>"
            ],
            "image/png": "[encoded data removed]"
          },
          "metadata": {}
        },
        {
          "output_type": "stream",
          "name": "stdout",
          "text": [
            "\u001b[1m112/112\u001b[0m \u001b[32m━━━━━━━━━━━━━━━━━━━━\u001b[0m\u001b[37m\u001b[0m \u001b[1m1s\u001b[0m 9ms/step\n",
            "Accuracy: 0.954698\n",
            "Precision: 0.866667\n",
            "Recall: 0.075145\n",
            "F1 score: 0.138298\n"
          ]
        },
        {
          "output_type": "execute_result",
          "data": {
            "text/plain": [
              "                  time model_name   type  accuracy  precision    recall  \\\n",
              "0  2024-08-02 20:08:33       lstm  train  0.955537   0.937500  0.086705   \n",
              "1  2024-08-02 20:09:25        gru  train  0.954698   0.866667  0.075145   \n",
              "\n",
              "         f1  \n",
              "0  0.158730  \n",
              "1  0.138298  "
            ],
            "text/html": [
              "\n",
              "  <div id=\"df-267676f1-f313-4d9a-ac70-c0a12155e42f\" class=\"colab-df-container\">\n",
              "    <div>\n",
              "<style scoped>\n",
              "    .dataframe tbody tr th:only-of-type {\n",
              "        vertical-align: middle;\n",
              "    }\n",
              "\n",
              "    .dataframe tbody tr th {\n",
              "        vertical-align: top;\n",
              "    }\n",
              "\n",
              "    .dataframe thead th {\n",
              "        text-align: right;\n",
              "    }\n",
              "</style>\n",
              "<table border=\"1\" class=\"dataframe\">\n",
              "  <thead>\n",
              "    <tr style=\"text-align: right;\">\n",
              "      <th></th>\n",
              "      <th>time</th>\n",
              "      <th>model_name</th>\n",
              "      <th>type</th>\n",
              "      <th>accuracy</th>\n",
              "      <th>precision</th>\n",
              "      <th>recall</th>\n",
              "      <th>f1</th>\n",
              "    </tr>\n",
              "  </thead>\n",
              "  <tbody>\n",
              "    <tr>\n",
              "      <th>0</th>\n",
              "      <td>2024-08-02 20:08:33</td>\n",
              "      <td>lstm</td>\n",
              "      <td>train</td>\n",
              "      <td>0.955537</td>\n",
              "      <td>0.937500</td>\n",
              "      <td>0.086705</td>\n",
              "      <td>0.158730</td>\n",
              "    </tr>\n",
              "    <tr>\n",
              "      <th>1</th>\n",
              "      <td>2024-08-02 20:09:25</td>\n",
              "      <td>gru</td>\n",
              "      <td>train</td>\n",
              "      <td>0.954698</td>\n",
              "      <td>0.866667</td>\n",
              "      <td>0.075145</td>\n",
              "      <td>0.138298</td>\n",
              "    </tr>\n",
              "  </tbody>\n",
              "</table>\n",
              "</div>\n",
              "    <div class=\"colab-df-buttons\">\n",
              "\n",
              "  <div class=\"colab-df-container\">\n",
              "    <button class=\"colab-df-convert\" onclick=\"convertToInteractive('df-267676f1-f313-4d9a-ac70-c0a12155e42f')\"\n",
              "            title=\"Convert this dataframe to an interactive table.\"\n",
              "            style=\"display:none;\">\n",
              "\n",
              "  <svg xmlns=\"http://www.w3.org/2000/svg\" height=\"24px\" viewBox=\"0 -960 960 960\">\n",
              "    <path d=\"M120-120v-720h720v720H120Zm60-500h600v-160H180v160Zm220 220h160v-160H400v160Zm0 220h160v-160H400v160ZM180-400h160v-160H180v160Zm440 0h160v-160H620v160ZM180-180h160v-160H180v160Zm440 0h160v-160H620v160Z\"/>\n",
              "  </svg>\n",
              "    </button>\n",
              "\n",
              "  <style>\n",
              "    .colab-df-container {\n",
              "      display:flex;\n",
              "      gap: 12px;\n",
              "    }\n",
              "\n",
              "    .colab-df-convert {\n",
              "      background-color: #E8F0FE;\n",
              "      border: none;\n",
              "      border-radius: 50%;\n",
              "      cursor: pointer;\n",
              "      display: none;\n",
              "      fill: #1967D2;\n",
              "      height: 32px;\n",
              "      padding: 0 0 0 0;\n",
              "      width: 32px;\n",
              "    }\n",
              "\n",
              "    .colab-df-convert:hover {\n",
              "      background-color: #E2EBFA;\n",
              "      box-shadow: 0px 1px 2px rgba(60, 64, 67, 0.3), 0px 1px 3px 1px rgba(60, 64, 67, 0.15);\n",
              "      fill: #174EA6;\n",
              "    }\n",
              "\n",
              "    .colab-df-buttons div {\n",
              "      margin-bottom: 4px;\n",
              "    }\n",
              "\n",
              "    [theme=dark] .colab-df-convert {\n",
              "      background-color: #3B4455;\n",
              "      fill: #D2E3FC;\n",
              "    }\n",
              "\n",
              "    [theme=dark] .colab-df-convert:hover {\n",
              "      background-color: #434B5C;\n",
              "      box-shadow: 0px 1px 3px 1px rgba(0, 0, 0, 0.15);\n",
              "      filter: drop-shadow(0px 1px 2px rgba(0, 0, 0, 0.3));\n",
              "      fill: #FFFFFF;\n",
              "    }\n",
              "  </style>\n",
              "\n",
              "    <script>\n",
              "      const buttonEl =\n",
              "        document.querySelector('#df-267676f1-f313-4d9a-ac70-c0a12155e42f button.colab-df-convert');\n",
              "      buttonEl.style.display =\n",
              "        google.colab.kernel.accessAllowed ? 'block' : 'none';\n",
              "\n",
              "      async function convertToInteractive(key) {\n",
              "        const element = document.querySelector('#df-267676f1-f313-4d9a-ac70-c0a12155e42f');\n",
              "        const dataTable =\n",
              "          await google.colab.kernel.invokeFunction('convertToInteractive',\n",
              "                                                    [key], {});\n",
              "        if (!dataTable) return;\n",
              "\n",
              "        const docLinkHtml = 'Like what you see? Visit the ' +\n",
              "          '<a target=\"_blank\" href=https://colab.research.google.com/notebooks/data_table.ipynb>data table notebook</a>'\n",
              "          + ' to learn more about interactive tables.';\n",
              "        element.innerHTML = '';\n",
              "        dataTable['output_type'] = 'display_data';\n",
              "        await google.colab.output.renderOutput(dataTable, element);\n",
              "        const docLink = document.createElement('div');\n",
              "        docLink.innerHTML = docLinkHtml;\n",
              "        element.appendChild(docLink);\n",
              "      }\n",
              "    </script>\n",
              "  </div>\n",
              "\n",
              "\n",
              "<div id=\"df-4758aca9-502e-4159-bfaf-8591522261df\">\n",
              "  <button class=\"colab-df-quickchart\" onclick=\"quickchart('df-4758aca9-502e-4159-bfaf-8591522261df')\"\n",
              "            title=\"Suggest charts\"\n",
              "            style=\"display:none;\">\n",
              "\n",
              "<svg xmlns=\"http://www.w3.org/2000/svg\" height=\"24px\"viewBox=\"0 0 24 24\"\n",
              "     width=\"24px\">\n",
              "    <g>\n",
              "        <path d=\"M19 3H5c-1.1 0-2 .9-2 2v14c0 1.1.9 2 2 2h14c1.1 0 2-.9 2-2V5c0-1.1-.9-2-2-2zM9 17H7v-7h2v7zm4 0h-2V7h2v10zm4 0h-2v-4h2v4z\"/>\n",
              "    </g>\n",
              "</svg>\n",
              "  </button>\n",
              "\n",
              "<style>\n",
              "  .colab-df-quickchart {\n",
              "      --bg-color: #E8F0FE;\n",
              "      --fill-color: #1967D2;\n",
              "      --hover-bg-color: #E2EBFA;\n",
              "      --hover-fill-color: #174EA6;\n",
              "      --disabled-fill-color: #AAA;\n",
              "      --disabled-bg-color: #DDD;\n",
              "  }\n",
              "\n",
              "  [theme=dark] .colab-df-quickchart {\n",
              "      --bg-color: #3B4455;\n",
              "      --fill-color: #D2E3FC;\n",
              "      --hover-bg-color: #434B5C;\n",
              "      --hover-fill-color: #FFFFFF;\n",
              "      --disabled-bg-color: #3B4455;\n",
              "      --disabled-fill-color: #666;\n",
              "  }\n",
              "\n",
              "  .colab-df-quickchart {\n",
              "    background-color: var(--bg-color);\n",
              "    border: none;\n",
              "    border-radius: 50%;\n",
              "    cursor: pointer;\n",
              "    display: none;\n",
              "    fill: var(--fill-color);\n",
              "    height: 32px;\n",
              "    padding: 0;\n",
              "    width: 32px;\n",
              "  }\n",
              "\n",
              "  .colab-df-quickchart:hover {\n",
              "    background-color: var(--hover-bg-color);\n",
              "    box-shadow: 0 1px 2px rgba(60, 64, 67, 0.3), 0 1px 3px 1px rgba(60, 64, 67, 0.15);\n",
              "    fill: var(--button-hover-fill-color);\n",
              "  }\n",
              "\n",
              "  .colab-df-quickchart-complete:disabled,\n",
              "  .colab-df-quickchart-complete:disabled:hover {\n",
              "    background-color: var(--disabled-bg-color);\n",
              "    fill: var(--disabled-fill-color);\n",
              "    box-shadow: none;\n",
              "  }\n",
              "\n",
              "  .colab-df-spinner {\n",
              "    border: 2px solid var(--fill-color);\n",
              "    border-color: transparent;\n",
              "    border-bottom-color: var(--fill-color);\n",
              "    animation:\n",
              "      spin 1s steps(1) infinite;\n",
              "  }\n",
              "\n",
              "  @keyframes spin {\n",
              "    0% {\n",
              "      border-color: transparent;\n",
              "      border-bottom-color: var(--fill-color);\n",
              "      border-left-color: var(--fill-color);\n",
              "    }\n",
              "    20% {\n",
              "      border-color: transparent;\n",
              "      border-left-color: var(--fill-color);\n",
              "      border-top-color: var(--fill-color);\n",
              "    }\n",
              "    30% {\n",
              "      border-color: transparent;\n",
              "      border-left-color: var(--fill-color);\n",
              "      border-top-color: var(--fill-color);\n",
              "      border-right-color: var(--fill-color);\n",
              "    }\n",
              "    40% {\n",
              "      border-color: transparent;\n",
              "      border-right-color: var(--fill-color);\n",
              "      border-top-color: var(--fill-color);\n",
              "    }\n",
              "    60% {\n",
              "      border-color: transparent;\n",
              "      border-right-color: var(--fill-color);\n",
              "    }\n",
              "    80% {\n",
              "      border-color: transparent;\n",
              "      border-right-color: var(--fill-color);\n",
              "      border-bottom-color: var(--fill-color);\n",
              "    }\n",
              "    90% {\n",
              "      border-color: transparent;\n",
              "      border-bottom-color: var(--fill-color);\n",
              "    }\n",
              "  }\n",
              "</style>\n",
              "\n",
              "  <script>\n",
              "    async function quickchart(key) {\n",
              "      const quickchartButtonEl =\n",
              "        document.querySelector('#' + key + ' button');\n",
              "      quickchartButtonEl.disabled = true;  // To prevent multiple clicks.\n",
              "      quickchartButtonEl.classList.add('colab-df-spinner');\n",
              "      try {\n",
              "        const charts = await google.colab.kernel.invokeFunction(\n",
              "            'suggestCharts', [key], {});\n",
              "      } catch (error) {\n",
              "        console.error('Error during call to suggestCharts:', error);\n",
              "      }\n",
              "      quickchartButtonEl.classList.remove('colab-df-spinner');\n",
              "      quickchartButtonEl.classList.add('colab-df-quickchart-complete');\n",
              "    }\n",
              "    (() => {\n",
              "      let quickchartButtonEl =\n",
              "        document.querySelector('#df-4758aca9-502e-4159-bfaf-8591522261df button');\n",
              "      quickchartButtonEl.style.display =\n",
              "        google.colab.kernel.accessAllowed ? 'block' : 'none';\n",
              "    })();\n",
              "  </script>\n",
              "</div>\n",
              "\n",
              "    </div>\n",
              "  </div>\n"
            ],
            "application/vnd.google.colaboratory.intrinsic+json": {
              "type": "dataframe",
              "summary": "{\n  \"name\": \"performance_report(model_gru, test_text_padded, y_test, 'gru', 'train')\",\n  \"rows\": 2,\n  \"fields\": [\n    {\n      \"column\": \"time\",\n      \"properties\": {\n        \"dtype\": \"object\",\n        \"num_unique_values\": 2,\n        \"samples\": [\n          \"2024-08-02 20:09:25\",\n          \"2024-08-02 20:08:33\"\n        ],\n        \"semantic_type\": \"\",\n        \"description\": \"\"\n      }\n    },\n    {\n      \"column\": \"model_name\",\n      \"properties\": {\n        \"dtype\": \"string\",\n        \"num_unique_values\": 2,\n        \"samples\": [\n          \"gru\",\n          \"lstm\"\n        ],\n        \"semantic_type\": \"\",\n        \"description\": \"\"\n      }\n    },\n    {\n      \"column\": \"type\",\n      \"properties\": {\n        \"dtype\": \"string\",\n        \"num_unique_values\": 1,\n        \"samples\": [\n          \"train\"\n        ],\n        \"semantic_type\": \"\",\n        \"description\": \"\"\n      }\n    },\n    {\n      \"column\": \"accuracy\",\n      \"properties\": {\n        \"dtype\": \"number\",\n        \"std\": 0.000593210386901475,\n        \"min\": 0.9546979865771812,\n        \"max\": 0.9555369127516778,\n        \"num_unique_values\": 2,\n        \"samples\": [\n          0.9546979865771812\n        ],\n        \"semantic_type\": \"\",\n        \"description\": \"\"\n      }\n    },\n    {\n      \"column\": \"precision\",\n      \"properties\": {\n        \"dtype\": \"number\",\n        \"std\": 0.0500867303340471,\n        \"min\": 0.8666666666666667,\n        \"max\": 0.9375,\n        \"num_unique_values\": 2,\n        \"samples\": [\n          0.8666666666666667\n        ],\n        \"semantic_type\": \"\",\n        \"description\": \"\"\n      }\n    },\n    {\n      \"column\": \"recall\",\n      \"properties\": {\n        \"dtype\": \"number\",\n        \"std\": 0.008174644869208618,\n        \"min\": 0.07514450867052024,\n        \"max\": 0.0867052023121387,\n        \"num_unique_values\": 2,\n        \"samples\": [\n          0.07514450867052024\n        ],\n        \"semantic_type\": \"\",\n        \"description\": \"\"\n      }\n    },\n    {\n      \"column\": \"f1\",\n      \"properties\": {\n        \"dtype\": \"number\",\n        \"std\": 0.014447808261325915,\n        \"min\": 0.13829787234042554,\n        \"max\": 0.1587301587301587,\n        \"num_unique_values\": 2,\n        \"samples\": [\n          0.13829787234042554\n        ],\n        \"semantic_type\": \"\",\n        \"description\": \"\"\n      }\n    }\n  ]\n}"
            }
          },
          "metadata": {},
          "execution_count": 85
        }
      ]
    }
  ],
  "metadata": {
    "colab": {
      "provenance": [],
      "gpuType": "T4",
      "authorship_tag": "ABX9TyO2PkTzdwNbFzpYuuhOKqqX",
      "include_colab_link": true
    },
    "kernelspec": {
      "display_name": "Python 3",
      "name": "python3"
    },
    "language_info": {
      "name": "python"
    },
    "accelerator": "GPU"
  },
  "nbformat": 4,
  "nbformat_minor": 0
}